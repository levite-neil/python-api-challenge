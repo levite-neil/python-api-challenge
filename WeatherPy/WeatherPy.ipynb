{
 "cells": [
  {
   "cell_type": "markdown",
   "metadata": {},
   "source": [
    "# WeatherPy\n",
    "\n",
    "---\n",
    "\n",
    "## Starter Code to Generate Random Geographic Coordinates and a List of Cities"
   ]
  },
  {
   "cell_type": "code",
   "execution_count": 76,
   "metadata": {
    "scrolled": true
   },
   "outputs": [],
   "source": [
    "# Dependencies and Setup\n",
    "import matplotlib.pyplot as plt\n",
    "import pandas as pd\n",
    "import numpy as np\n",
    "import requests\n",
    "import time\n",
    "import json, pprint\n",
    "from scipy.stats import linregress\n",
    "\n",
    "# Impor the OpenWeatherMap API key\n",
    "from api_keys import weather_api_key, geoapify_key\n",
    "\n",
    "# Import citipy to determine the cities based on latitude and longitude\n",
    "from citipy import citipy"
   ]
  },
  {
   "cell_type": "markdown",
   "metadata": {},
   "source": [
    "### Generate the Cities List by Using the `citipy` Library"
   ]
  },
  {
   "cell_type": "code",
   "execution_count": 3,
   "metadata": {},
   "outputs": [
    {
     "name": "stdout",
     "output_type": "stream",
     "text": [
      "Number of cities in the list: 601\n"
     ]
    }
   ],
   "source": [
    "# Empty list for holding the latitude and longitude combinations\n",
    "lat_lngs = []\n",
    "\n",
    "# Empty list for holding the cities names\n",
    "cities = []\n",
    "\n",
    "# Range of latitudes and longitudes\n",
    "lat_range = (-90, 90)\n",
    "lng_range = (-180, 180)\n",
    "\n",
    "# Create a set of random lat and lng combinations\n",
    "lats = np.random.uniform(lat_range[0], lat_range[1], size=1500)\n",
    "lngs = np.random.uniform(lng_range[0], lng_range[1], size=1500)\n",
    "lat_lngs = zip(lats, lngs)\n",
    "\n",
    "# Identify nearest city for each lat, lng combination\n",
    "for lat_lng in lat_lngs:\n",
    "    city = citipy.nearest_city(lat_lng[0], lat_lng[1]).city_name\n",
    "    # If the city is unique, then add it to a our cities list\n",
    "    if city not in cities:\n",
    "        cities.append(city)\n",
    "\n",
    "# Print the city count to confirm sufficient count\n",
    "print(f\"Number of cities in the list: {len(cities)}\")"
   ]
  },
  {
   "cell_type": "markdown",
   "metadata": {},
   "source": [
    "---"
   ]
  },
  {
   "cell_type": "markdown",
   "metadata": {},
   "source": [
    "## Requirement 1: Create Plots to Showcase the Relationship Between Weather Variables and Latitude\n",
    "\n",
    "### Use the OpenWeatherMap API to retrieve weather data from the cities list generated in the started code"
   ]
  },
  {
   "cell_type": "code",
   "execution_count": 47,
   "metadata": {},
   "outputs": [
    {
     "name": "stdout",
     "output_type": "stream",
     "text": [
      "{'albany': [42.6511674, -73.754968],\n",
      " 'busselton': [-33.644499, 115.3488754],\n",
      " 'kawalu': [-1.9593, 123.8495],\n",
      " 'mataura': [-46.192734, 168.8642685],\n",
      " 'vrangel': [71.224739, -178.71703505]}\n"
     ]
    }
   ],
   "source": [
    "# Set the API for getting City Lat and Long\n",
    "url_geocoding = \"http://api.openweathermap.org/geo/1.0/direct?\"\n",
    "\n",
    "#Create empty dict\n",
    "city_dict = {}\n",
    "\n",
    "\n",
    "\n",
    "for city in cities[:5]:\n",
    "    #print(city)\n",
    "    #city_dict [city] = [[1,2]]\n",
    "\n",
    "    param = {\n",
    "        \"q\": city,\n",
    "        \"limit\": 1,\n",
    "        \"appid\": weather_api_key\n",
    "    }\n",
    "    #print(city)\n",
    "    response = requests.get(url_geocoding, params=param).json()\n",
    "    city_dict[city] = [response[0][\"lat\"],response[0][\"lon\"]]\n",
    "    #print(json.dumps(response, indent=4, sort_keys= True))\n",
    "\n",
    "pprint.pprint(city_dict)\n"
   ]
  },
  {
   "cell_type": "code",
   "execution_count": 48,
   "metadata": {},
   "outputs": [
    {
     "name": "stdout",
     "output_type": "stream",
     "text": [
      "Beginning Data Retrieval     \n",
      "-----------------------------\n",
      "Processing Record 1 of Set 1 | kawalu\n",
      "Processing Record 2 of Set 1 | busselton\n",
      "Processing Record 3 of Set 1 | vrangel\n",
      "City not found. Skippting...\n",
      "Processing Record 4 of Set 1 | mataura\n",
      "Processing Record 5 of Set 1 | albany\n",
      "-----------------------------\n",
      "Data Retrieval Complete      \n",
      "-----------------------------\n"
     ]
    }
   ],
   "source": [
    "# Set the API base URL\n",
    "url = \"https://api.openweathermap.org/data/2.5/weather?\"\n",
    "\n",
    "#create blank dict\n",
    "city_data = []\n",
    "\n",
    "# Print to logger\n",
    "print(\"Beginning Data Retrieval     \")\n",
    "print(\"-----------------------------\")\n",
    "\n",
    "#Create counters\n",
    "record_count = 1\n",
    "set_count = 1\n",
    "\n",
    "#Loop through all the cities\n",
    "for i, city in enumerate(city_dict):\n",
    "\n",
    "    if i == 10:\n",
    "        break\n",
    "    \n",
    "    # Group cities in sets of 50 for logging purposes\n",
    "    if (i % 5 == 0 and i >= 5):\n",
    "        set_count += 1\n",
    "        record_count = 1\n",
    "    \n",
    "    #Create endpoint URL with each city\n",
    "    param ={\n",
    "        \"lat\": city_dict[city][0],\n",
    "        \"lon\": city_dict[city][1],\n",
    "        \"appid\": weather_api_key\n",
    "    }\n",
    "\n",
    "    # Log the url, record, and set numbers\n",
    "    print(\"Processing Record %s of Set %s | %s\" % (record_count, set_count, city))\n",
    "\n",
    "    # Add 1 to the record count\n",
    "    record_count += 1\n",
    "\n",
    "    try:\n",
    "        # Parse the JSON and retrieve data\n",
    "        city_weather = requests.get(url,params=param).json()\n",
    "    \n",
    "        #city_name = list(city_dict.keys())[i]\n",
    "        city_lat = city_weather[\"coord\"][\"lat\"]\n",
    "        city_lng = city_weather[\"coord\"][\"lon\"]\n",
    "        city_max_temp = city_weather[\"main\"][\"temp_max\"]\n",
    "        city_humidity = city_weather[\"main\"][\"humidity\"]\n",
    "        city_clouds = city_weather[\"clouds\"][\"all\"]\n",
    "        city_wind = city_weather[\"wind\"][\"speed\"]\n",
    "        city_country = city_weather[\"sys\"][\"country\"]\n",
    "        city_date = city_weather[\"dt\"]\n",
    "\n",
    "        city_data.append({\"City\": city, \n",
    "                \"Lat\": city_lat, \n",
    "                \"Lng\": city_lng, \n",
    "                \"Max Temp\": city_max_temp,\n",
    "                \"Humidity\": city_humidity,\n",
    "                \"Cloudiness\": city_clouds,\n",
    "                \"Wind Speed\": city_wind,\n",
    "                \"Country\": city_country,\n",
    "                \"Date\": city_date})\n",
    "    except:\n",
    "        print(\"City not found. Skippting...\")\n",
    "        pass\n",
    "\n",
    "#pprint.pprint(city_data)\n",
    "# Indicate that Data Loading is complete \n",
    "print(\"-----------------------------\")\n",
    "print(\"Data Retrieval Complete      \")\n",
    "print(\"-----------------------------\")\n",
    "\n",
    "#print(json.dumps(response, indent = 4, sort_keys=True))\n",
    "#print(city_data)\n"
   ]
  },
  {
   "cell_type": "code",
   "execution_count": 49,
   "metadata": {},
   "outputs": [
    {
     "name": "stdout",
     "output_type": "stream",
     "text": [
      "[{'City': 'kawalu',\n",
      "  'Cloudiness': 84,\n",
      "  'Country': 'ID',\n",
      "  'Date': 1674950498,\n",
      "  'Humidity': 72,\n",
      "  'Lat': -1.9593,\n",
      "  'Lng': 123.8495,\n",
      "  'Max Temp': 300.96,\n",
      "  'Wind Speed': 0.99},\n",
      " {'City': 'busselton',\n",
      "  'Cloudiness': 38,\n",
      "  'Country': 'AU',\n",
      "  'Date': 1674950499,\n",
      "  'Humidity': 56,\n",
      "  'Lat': -33.6445,\n",
      "  'Lng': 115.3489,\n",
      "  'Max Temp': 291.38,\n",
      "  'Wind Speed': 5.48},\n",
      " {'City': 'mataura',\n",
      "  'Cloudiness': 8,\n",
      "  'Country': 'NZ',\n",
      "  'Date': 1674950500,\n",
      "  'Humidity': 34,\n",
      "  'Lat': -46.1927,\n",
      "  'Lng': 168.8643,\n",
      "  'Max Temp': 298.6,\n",
      "  'Wind Speed': 0.77},\n",
      " {'City': 'albany',\n",
      "  'Cloudiness': 82,\n",
      "  'Country': 'US',\n",
      "  'Date': 1674950439,\n",
      "  'Humidity': 75,\n",
      "  'Lat': 42.6512,\n",
      "  'Lng': -73.755,\n",
      "  'Max Temp': 275.79,\n",
      "  'Wind Speed': 0.45}]\n"
     ]
    }
   ],
   "source": [
    "pprint.pprint(city_data)"
   ]
  },
  {
   "cell_type": "code",
   "execution_count": 52,
   "metadata": {},
   "outputs": [
    {
     "data": {
      "text/plain": [
       "City          4\n",
       "Lat           4\n",
       "Lng           4\n",
       "Max Temp      4\n",
       "Humidity      4\n",
       "Cloudiness    4\n",
       "Wind Speed    4\n",
       "Country       4\n",
       "Date          4\n",
       "dtype: int64"
      ]
     },
     "execution_count": 52,
     "metadata": {},
     "output_type": "execute_result"
    }
   ],
   "source": [
    "# Convert the cities weather data into a Pandas DataFrame\n",
    "city_data_df = pd.DataFrame(city_data)\n",
    "\n",
    "# Show Record Count\n",
    "city_data_df.count()"
   ]
  },
  {
   "cell_type": "code",
   "execution_count": 53,
   "metadata": {},
   "outputs": [
    {
     "data": {
      "text/html": [
       "<div>\n",
       "<style scoped>\n",
       "    .dataframe tbody tr th:only-of-type {\n",
       "        vertical-align: middle;\n",
       "    }\n",
       "\n",
       "    .dataframe tbody tr th {\n",
       "        vertical-align: top;\n",
       "    }\n",
       "\n",
       "    .dataframe thead th {\n",
       "        text-align: right;\n",
       "    }\n",
       "</style>\n",
       "<table border=\"1\" class=\"dataframe\">\n",
       "  <thead>\n",
       "    <tr style=\"text-align: right;\">\n",
       "      <th></th>\n",
       "      <th>City</th>\n",
       "      <th>Lat</th>\n",
       "      <th>Lng</th>\n",
       "      <th>Max Temp</th>\n",
       "      <th>Humidity</th>\n",
       "      <th>Cloudiness</th>\n",
       "      <th>Wind Speed</th>\n",
       "      <th>Country</th>\n",
       "      <th>Date</th>\n",
       "    </tr>\n",
       "  </thead>\n",
       "  <tbody>\n",
       "    <tr>\n",
       "      <th>0</th>\n",
       "      <td>kawalu</td>\n",
       "      <td>-1.9593</td>\n",
       "      <td>123.8495</td>\n",
       "      <td>300.96</td>\n",
       "      <td>72</td>\n",
       "      <td>84</td>\n",
       "      <td>0.99</td>\n",
       "      <td>ID</td>\n",
       "      <td>1674950498</td>\n",
       "    </tr>\n",
       "    <tr>\n",
       "      <th>1</th>\n",
       "      <td>busselton</td>\n",
       "      <td>-33.6445</td>\n",
       "      <td>115.3489</td>\n",
       "      <td>291.38</td>\n",
       "      <td>56</td>\n",
       "      <td>38</td>\n",
       "      <td>5.48</td>\n",
       "      <td>AU</td>\n",
       "      <td>1674950499</td>\n",
       "    </tr>\n",
       "    <tr>\n",
       "      <th>2</th>\n",
       "      <td>mataura</td>\n",
       "      <td>-46.1927</td>\n",
       "      <td>168.8643</td>\n",
       "      <td>298.60</td>\n",
       "      <td>34</td>\n",
       "      <td>8</td>\n",
       "      <td>0.77</td>\n",
       "      <td>NZ</td>\n",
       "      <td>1674950500</td>\n",
       "    </tr>\n",
       "    <tr>\n",
       "      <th>3</th>\n",
       "      <td>albany</td>\n",
       "      <td>42.6512</td>\n",
       "      <td>-73.7550</td>\n",
       "      <td>275.79</td>\n",
       "      <td>75</td>\n",
       "      <td>82</td>\n",
       "      <td>0.45</td>\n",
       "      <td>US</td>\n",
       "      <td>1674950439</td>\n",
       "    </tr>\n",
       "  </tbody>\n",
       "</table>\n",
       "</div>"
      ],
      "text/plain": [
       "        City      Lat       Lng  Max Temp  Humidity  Cloudiness  Wind Speed  \\\n",
       "0     kawalu  -1.9593  123.8495    300.96        72          84        0.99   \n",
       "1  busselton -33.6445  115.3489    291.38        56          38        5.48   \n",
       "2    mataura -46.1927  168.8643    298.60        34           8        0.77   \n",
       "3     albany  42.6512  -73.7550    275.79        75          82        0.45   \n",
       "\n",
       "  Country        Date  \n",
       "0      ID  1674950498  \n",
       "1      AU  1674950499  \n",
       "2      NZ  1674950500  \n",
       "3      US  1674950439  "
      ]
     },
     "execution_count": 53,
     "metadata": {},
     "output_type": "execute_result"
    }
   ],
   "source": [
    "# Display sample data\n",
    "city_data_df.head()"
   ]
  },
  {
   "cell_type": "code",
   "execution_count": 57,
   "metadata": {},
   "outputs": [],
   "source": [
    "# Export the City_Data into a csv\n",
    "city_data_df.to_csv(\"../output_data/cities_beta.csv\", index_label=\"City_ID\")"
   ]
  },
  {
   "cell_type": "code",
   "execution_count": 59,
   "metadata": {},
   "outputs": [
    {
     "data": {
      "text/html": [
       "<div>\n",
       "<style scoped>\n",
       "    .dataframe tbody tr th:only-of-type {\n",
       "        vertical-align: middle;\n",
       "    }\n",
       "\n",
       "    .dataframe tbody tr th {\n",
       "        vertical-align: top;\n",
       "    }\n",
       "\n",
       "    .dataframe thead th {\n",
       "        text-align: right;\n",
       "    }\n",
       "</style>\n",
       "<table border=\"1\" class=\"dataframe\">\n",
       "  <thead>\n",
       "    <tr style=\"text-align: right;\">\n",
       "      <th></th>\n",
       "      <th>City</th>\n",
       "      <th>Lat</th>\n",
       "      <th>Lng</th>\n",
       "      <th>Max Temp</th>\n",
       "      <th>Humidity</th>\n",
       "      <th>Cloudiness</th>\n",
       "      <th>Wind Speed</th>\n",
       "      <th>Country</th>\n",
       "      <th>Date</th>\n",
       "    </tr>\n",
       "    <tr>\n",
       "      <th>City_ID</th>\n",
       "      <th></th>\n",
       "      <th></th>\n",
       "      <th></th>\n",
       "      <th></th>\n",
       "      <th></th>\n",
       "      <th></th>\n",
       "      <th></th>\n",
       "      <th></th>\n",
       "      <th></th>\n",
       "    </tr>\n",
       "  </thead>\n",
       "  <tbody>\n",
       "    <tr>\n",
       "      <th>0</th>\n",
       "      <td>kawalu</td>\n",
       "      <td>-1.9593</td>\n",
       "      <td>123.8495</td>\n",
       "      <td>300.96</td>\n",
       "      <td>72</td>\n",
       "      <td>84</td>\n",
       "      <td>0.99</td>\n",
       "      <td>ID</td>\n",
       "      <td>1674950498</td>\n",
       "    </tr>\n",
       "    <tr>\n",
       "      <th>1</th>\n",
       "      <td>busselton</td>\n",
       "      <td>-33.6445</td>\n",
       "      <td>115.3489</td>\n",
       "      <td>291.38</td>\n",
       "      <td>56</td>\n",
       "      <td>38</td>\n",
       "      <td>5.48</td>\n",
       "      <td>AU</td>\n",
       "      <td>1674950499</td>\n",
       "    </tr>\n",
       "    <tr>\n",
       "      <th>2</th>\n",
       "      <td>mataura</td>\n",
       "      <td>-46.1927</td>\n",
       "      <td>168.8643</td>\n",
       "      <td>298.60</td>\n",
       "      <td>34</td>\n",
       "      <td>8</td>\n",
       "      <td>0.77</td>\n",
       "      <td>NZ</td>\n",
       "      <td>1674950500</td>\n",
       "    </tr>\n",
       "    <tr>\n",
       "      <th>3</th>\n",
       "      <td>albany</td>\n",
       "      <td>42.6512</td>\n",
       "      <td>-73.7550</td>\n",
       "      <td>275.79</td>\n",
       "      <td>75</td>\n",
       "      <td>82</td>\n",
       "      <td>0.45</td>\n",
       "      <td>US</td>\n",
       "      <td>1674950439</td>\n",
       "    </tr>\n",
       "  </tbody>\n",
       "</table>\n",
       "</div>"
      ],
      "text/plain": [
       "              City      Lat       Lng  Max Temp  Humidity  Cloudiness  \\\n",
       "City_ID                                                                 \n",
       "0           kawalu  -1.9593  123.8495    300.96        72          84   \n",
       "1        busselton -33.6445  115.3489    291.38        56          38   \n",
       "2          mataura -46.1927  168.8643    298.60        34           8   \n",
       "3           albany  42.6512  -73.7550    275.79        75          82   \n",
       "\n",
       "         Wind Speed Country        Date  \n",
       "City_ID                                  \n",
       "0              0.99      ID  1674950498  \n",
       "1              5.48      AU  1674950499  \n",
       "2              0.77      NZ  1674950500  \n",
       "3              0.45      US  1674950439  "
      ]
     },
     "execution_count": 59,
     "metadata": {},
     "output_type": "execute_result"
    }
   ],
   "source": [
    "# Read saved data\n",
    "city_data_df = pd.read_csv(\"../output_data/cities_beta.csv\", index_col=\"City_ID\")\n",
    "\n",
    "# Display sample data\n",
    "city_data_df.head()"
   ]
  },
  {
   "cell_type": "markdown",
   "metadata": {},
   "source": [
    "### Create the Scatter Plots Requested\n",
    "\n",
    "#### Latitude Vs. Temperature"
   ]
  },
  {
   "cell_type": "code",
   "execution_count": 64,
   "metadata": {
    "tags": []
   },
   "outputs": [
    {
     "data": {
      "image/png": "[encoded data removed]",
      "text/plain": [
       "<Figure size 640x480 with 1 Axes>"
      ]
     },
     "metadata": {},
     "output_type": "display_data"
    }
   ],
   "source": [
    "# Build scatter plot for latitude vs. temperature\n",
    "x_values = city_data_df[\"Lat\"]\n",
    "y_values = city_data_df[\"Lng\"]\n",
    "plt.scatter(x_values,y_values)\n",
    "\n",
    "# Incorporate the other graph properties\n",
    "plt.title(\"City Max Latitude vs. Temperature (2023-1-28)\")\n",
    "plt.xlabel(\"Latitude\")\n",
    "plt.ylabel(\"Max Temperature (C)\")\n",
    "# Save the figure\n",
    "plt.savefig(\"../output_data/Fig1_beta.png\")\n",
    "\n",
    "# Show plot\n",
    "plt.show()"
   ]
  },
  {
   "cell_type": "markdown",
   "metadata": {},
   "source": [
    "#### Latitude Vs. Humidity"
   ]
  },
  {
   "cell_type": "code",
   "execution_count": 66,
   "metadata": {},
   "outputs": [
    {
     "data": {
      "image/png": "[encoded data removed]",
      "text/plain": [
       "<Figure size 640x480 with 1 Axes>"
      ]
     },
     "metadata": {},
     "output_type": "display_data"
    }
   ],
   "source": [
    "# Build the scatter plots for latitude vs. humidity\n",
    "x_values = city_data_df[\"Lat\"]\n",
    "y_values = city_data_df[\"Humidity\"]\n",
    "plt.scatter(x_values,y_values)\n",
    "\n",
    "# Incorporate the other graph properties\n",
    "plt.title(\"City Latitude vs. Humidity (2023-1-28)\")\n",
    "plt.xlabel(\"Latitude\")\n",
    "plt.ylabel(\"Humidity (%)\")\n",
    "\n",
    "# Save the figure\n",
    "plt.savefig(\"../output_data/Fig2_beta.png\")\n",
    "\n",
    "# Show plot\n",
    "plt.show()"
   ]
  },
  {
   "cell_type": "markdown",
   "metadata": {},
   "source": [
    "#### Latitude Vs. Cloudiness"
   ]
  },
  {
   "cell_type": "code",
   "execution_count": 67,
   "metadata": {},
   "outputs": [
    {
     "data": {
      "image/png": "[encoded data removed]",
      "text/plain": [
       "<Figure size 640x480 with 1 Axes>"
      ]
     },
     "metadata": {},
     "output_type": "display_data"
    }
   ],
   "source": [
    "# Build the scatter plots for latitude vs. cloudiness\n",
    "x_values = city_data_df[\"Lat\"]\n",
    "y_values = city_data_df[\"Cloudiness\"]\n",
    "plt.scatter(x_values,y_values)\n",
    "\n",
    "# Incorporate the other graph properties\n",
    "plt.title(\"City Latitude vs. Cloudiness (2023-1-28)\")\n",
    "plt.xlabel(\"Latitude\")\n",
    "plt.ylabel(\"Cloudiness(%)\")\n",
    "\n",
    "# Save the figure\n",
    "plt.savefig(\"../output_data/Fig3_beta.png\")\n",
    "\n",
    "# Show plot\n",
    "plt.show()"
   ]
  },
  {
   "cell_type": "markdown",
   "metadata": {},
   "source": [
    "#### Latitude vs. Wind Speed Plot"
   ]
  },
  {
   "cell_type": "code",
   "execution_count": 68,
   "metadata": {},
   "outputs": [
    {
     "data": {
      "image/png": "[encoded data removed]",
      "text/plain": [
       "<Figure size 640x480 with 1 Axes>"
      ]
     },
     "metadata": {},
     "output_type": "display_data"
    }
   ],
   "source": [
    "# Build the scatter plots for latitude vs. wind speed\n",
    "x_values = city_data_df[\"Lat\"]\n",
    "y_values = city_data_df[\"Wind Speed\"]\n",
    "plt.scatter(x_values,y_values)\n",
    "\n",
    "# Incorporate the other graph properties\n",
    "plt.title(\"City Latitude vs. Wind Speed (2023-1-28)\")\n",
    "plt.xlabel(\"Latitude\")\n",
    "plt.ylabel(\"Wind Speed (m/s)\")\n",
    "\n",
    "# Save the figure\n",
    "plt.savefig(\"../output_data/Fig4_beta.png\")\n",
    "\n",
    "# Show plot\n",
    "plt.show()"
   ]
  },
  {
   "cell_type": "markdown",
   "metadata": {},
   "source": [
    "---\n",
    "\n",
    "## Requirement 2: Compute Linear Regression for Each Relationship\n"
   ]
  },
  {
   "cell_type": "code",
   "execution_count": 90,
   "metadata": {},
   "outputs": [
    {
     "name": "stdout",
     "output_type": "stream",
     "text": [
      "City_ID\n",
      "0    290.010219\n",
      "1    296.779912\n",
      "2    299.460894\n",
      "3    280.478975\n",
      "Name: Lat, dtype: float64\n",
      "y = -0.21x +289.59\n",
      "City_ID\n",
      "0    290.010219\n",
      "1    296.779912\n",
      "2    299.460894\n",
      "3    280.478975\n",
      "Name: Lat, dtype: float64\n",
      "-0.7454115437431001\n",
      "y = -0.21x +289.59\n"
     ]
    }
   ],
   "source": [
    "# Define a function to create Linear Regression plots\n",
    "def lin_regress(l_x_values,l_y_values):\n",
    "    (slope, intercept, rvalue, pvalue, stderr) = linregress(l_x_values,l_y_values)\n",
    "\n",
    "    #Get regression values\n",
    "    regress_values = l_x_values * slope + intercept\n",
    "\n",
    "    print(regress_values)\n",
    "    line_eq = prt_lin_regress(slope,intercept)\n",
    "    return(regress_values, rvalue, line_eq)\n",
    "\n",
    "def prt_lin_regress(slope, intercept):\n",
    "\n",
    "    line_eq = \"y = \" + str(round(slope,2)) + \"x +\" + str(round(intercept,2))\n",
    "    print(line_eq)\n",
    "\n",
    "    return(line_eq)\n",
    "regress_values, rvalue, line_eq = lin_regress(city_data_df[\"Lat\"],city_data_df[\"Max Temp\"])\n",
    "print(regress_values)\n",
    "print(rvalue)\n",
    "print(line_eq)"
   ]
  },
  {
   "cell_type": "code",
   "execution_count": 87,
   "metadata": {},
   "outputs": [
    {
     "data": {
      "text/html": [
       "<div>\n",
       "<style scoped>\n",
       "    .dataframe tbody tr th:only-of-type {\n",
       "        vertical-align: middle;\n",
       "    }\n",
       "\n",
       "    .dataframe tbody tr th {\n",
       "        vertical-align: top;\n",
       "    }\n",
       "\n",
       "    .dataframe thead th {\n",
       "        text-align: right;\n",
       "    }\n",
       "</style>\n",
       "<table border=\"1\" class=\"dataframe\">\n",
       "  <thead>\n",
       "    <tr style=\"text-align: right;\">\n",
       "      <th></th>\n",
       "      <th>City</th>\n",
       "      <th>Lat</th>\n",
       "      <th>Lng</th>\n",
       "      <th>Max Temp</th>\n",
       "      <th>Humidity</th>\n",
       "      <th>Cloudiness</th>\n",
       "      <th>Wind Speed</th>\n",
       "      <th>Country</th>\n",
       "      <th>Date</th>\n",
       "    </tr>\n",
       "    <tr>\n",
       "      <th>City_ID</th>\n",
       "      <th></th>\n",
       "      <th></th>\n",
       "      <th></th>\n",
       "      <th></th>\n",
       "      <th></th>\n",
       "      <th></th>\n",
       "      <th></th>\n",
       "      <th></th>\n",
       "      <th></th>\n",
       "    </tr>\n",
       "  </thead>\n",
       "  <tbody>\n",
       "    <tr>\n",
       "      <th>3</th>\n",
       "      <td>albany</td>\n",
       "      <td>42.6512</td>\n",
       "      <td>-73.755</td>\n",
       "      <td>275.79</td>\n",
       "      <td>75</td>\n",
       "      <td>82</td>\n",
       "      <td>0.45</td>\n",
       "      <td>US</td>\n",
       "      <td>1674950439</td>\n",
       "    </tr>\n",
       "  </tbody>\n",
       "</table>\n",
       "</div>"
      ],
      "text/plain": [
       "           City      Lat     Lng  Max Temp  Humidity  Cloudiness  Wind Speed  \\\n",
       "City_ID                                                                        \n",
       "3        albany  42.6512 -73.755    275.79        75          82        0.45   \n",
       "\n",
       "        Country        Date  \n",
       "City_ID                      \n",
       "3            US  1674950439  "
      ]
     },
     "execution_count": 87,
     "metadata": {},
     "output_type": "execute_result"
    }
   ],
   "source": [
    "# Create a DataFrame with the Northern Hemisphere data (Latitude >= 0)\n",
    "northern_hemi_df = city_data_df.loc[city_data_df[\"Lat\"] >= 0]\n",
    "\n",
    "# Display sample data\n",
    "northern_hemi_df.head()"
   ]
  },
  {
   "cell_type": "code",
   "execution_count": 92,
   "metadata": {},
   "outputs": [
    {
     "data": {
      "text/html": [
       "<div>\n",
       "<style scoped>\n",
       "    .dataframe tbody tr th:only-of-type {\n",
       "        vertical-align: middle;\n",
       "    }\n",
       "\n",
       "    .dataframe tbody tr th {\n",
       "        vertical-align: top;\n",
       "    }\n",
       "\n",
       "    .dataframe thead th {\n",
       "        text-align: right;\n",
       "    }\n",
       "</style>\n",
       "<table border=\"1\" class=\"dataframe\">\n",
       "  <thead>\n",
       "    <tr style=\"text-align: right;\">\n",
       "      <th></th>\n",
       "      <th>City</th>\n",
       "      <th>Lat</th>\n",
       "      <th>Lng</th>\n",
       "      <th>Max Temp</th>\n",
       "      <th>Humidity</th>\n",
       "      <th>Cloudiness</th>\n",
       "      <th>Wind Speed</th>\n",
       "      <th>Country</th>\n",
       "      <th>Date</th>\n",
       "    </tr>\n",
       "    <tr>\n",
       "      <th>City_ID</th>\n",
       "      <th></th>\n",
       "      <th></th>\n",
       "      <th></th>\n",
       "      <th></th>\n",
       "      <th></th>\n",
       "      <th></th>\n",
       "      <th></th>\n",
       "      <th></th>\n",
       "      <th></th>\n",
       "    </tr>\n",
       "  </thead>\n",
       "  <tbody>\n",
       "    <tr>\n",
       "      <th>0</th>\n",
       "      <td>kawalu</td>\n",
       "      <td>-1.9593</td>\n",
       "      <td>123.8495</td>\n",
       "      <td>300.96</td>\n",
       "      <td>72</td>\n",
       "      <td>84</td>\n",
       "      <td>0.99</td>\n",
       "      <td>ID</td>\n",
       "      <td>1674950498</td>\n",
       "    </tr>\n",
       "    <tr>\n",
       "      <th>1</th>\n",
       "      <td>busselton</td>\n",
       "      <td>-33.6445</td>\n",
       "      <td>115.3489</td>\n",
       "      <td>291.38</td>\n",
       "      <td>56</td>\n",
       "      <td>38</td>\n",
       "      <td>5.48</td>\n",
       "      <td>AU</td>\n",
       "      <td>1674950499</td>\n",
       "    </tr>\n",
       "    <tr>\n",
       "      <th>2</th>\n",
       "      <td>mataura</td>\n",
       "      <td>-46.1927</td>\n",
       "      <td>168.8643</td>\n",
       "      <td>298.60</td>\n",
       "      <td>34</td>\n",
       "      <td>8</td>\n",
       "      <td>0.77</td>\n",
       "      <td>NZ</td>\n",
       "      <td>1674950500</td>\n",
       "    </tr>\n",
       "  </tbody>\n",
       "</table>\n",
       "</div>"
      ],
      "text/plain": [
       "              City      Lat       Lng  Max Temp  Humidity  Cloudiness  \\\n",
       "City_ID                                                                 \n",
       "0           kawalu  -1.9593  123.8495    300.96        72          84   \n",
       "1        busselton -33.6445  115.3489    291.38        56          38   \n",
       "2          mataura -46.1927  168.8643    298.60        34           8   \n",
       "\n",
       "         Wind Speed Country        Date  \n",
       "City_ID                                  \n",
       "0              0.99      ID  1674950498  \n",
       "1              5.48      AU  1674950499  \n",
       "2              0.77      NZ  1674950500  "
      ]
     },
     "execution_count": 92,
     "metadata": {},
     "output_type": "execute_result"
    }
   ],
   "source": [
    "# Create a DataFrame with the Southern Hemisphere data (Latitude < 0)\n",
    "southern_hemi_df = city_data_df.loc[city_data_df[\"Lat\"] < 0]\n",
    "\n",
    "# Display sample data\n",
    "southern_hemi_df.head()"
   ]
  },
  {
   "cell_type": "markdown",
   "metadata": {},
   "source": [
    "###  Temperature vs. Latitude Linear Regression Plot"
   ]
  },
  {
   "cell_type": "code",
   "execution_count": 113,
   "metadata": {},
   "outputs": [
    {
     "name": "stdout",
     "output_type": "stream",
     "text": [
      "City_ID\n",
      "3   NaN\n",
      "Name: Lat, dtype: float64\n",
      "y = nanx +nan\n",
      "The r-value is: 0.0\n"
     ]
    },
    {
     "name": "stderr",
     "output_type": "stream",
     "text": [
      "/opt/anaconda3/lib/python3.9/site-packages/scipy/stats/_stats_mstats_common.py:181: RuntimeWarning: invalid value encountered in double_scalars\n",
      "  slope = ssxym / ssxm\n",
      "/opt/anaconda3/lib/python3.9/site-packages/scipy/stats/_stats_mstats_common.py:195: RuntimeWarning: invalid value encountered in sqrt\n",
      "  t = r * np.sqrt(df / ((1.0 - r + TINY)*(1.0 + r + TINY)))\n",
      "/opt/anaconda3/lib/python3.9/site-packages/scipy/stats/_stats_mstats_common.py:198: RuntimeWarning: invalid value encountered in double_scalars\n",
      "  slope_stderr = np.sqrt((1 - r**2) * ssym / ssxm / df)\n"
     ]
    },
    {
     "data": {
      "image/png": "[encoded data removed]",
      "text/plain": [
       "<Figure size 640x480 with 1 Axes>"
      ]
     },
     "metadata": {},
     "output_type": "display_data"
    }
   ],
   "source": [
    "# Linear regression on Northern Hemisphere\n",
    "l_x_values = northern_hemi_df[\"Lat\"]\n",
    "l_y_values = northern_hemi_df[\"Max Temp\"]\n",
    "(regress_values, rvalue, line_eq) = lin_regress(l_x_values, l_y_values)\n",
    "\n",
    "\n",
    "plt.scatter(l_x_values,l_y_values)\n",
    "plt.plot(l_x_values,regress_values,\"r-\")\n",
    "\n",
    "# Label plot and annotate the line equation\n",
    "plt.xlabel(\"Latitude\")\n",
    "plt.ylabel(\"Max Temp.\")\n",
    "plt.annotate(line_eq,(41,265),fontsize=15,color=\"red\")\n",
    "\n",
    "#Print r values\n",
    "print(f\"The r-value is: {rvalue**2}\")\n",
    "\n",
    "# Show plot\n",
    "plt.show()"
   ]
  },
  {
   "cell_type": "code",
   "execution_count": 112,
   "metadata": {},
   "outputs": [
    {
     "name": "stdout",
     "output_type": "stream",
     "text": [
      "City_ID\n",
      "0    299.555557\n",
      "1    296.330773\n",
      "2    295.053670\n",
      "Name: Lat, dtype: float64\n",
      "y = 0.1x +299.75\n",
      "The r-value is: 0.21607184918935754\n"
     ]
    },
    {
     "data": {
      "image/png": "[encoded data removed]",
      "text/plain": [
       "<Figure size 640x480 with 1 Axes>"
      ]
     },
     "metadata": {},
     "output_type": "display_data"
    }
   ],
   "source": [
    "# Linear regression on Southern Hemisphere\n",
    "l_x_values = southern_hemi_df[\"Lat\"]\n",
    "l_y_values = southern_hemi_df[\"Max Temp\"]\n",
    "(regress_values, rvalue, line_eq) = lin_regress(l_x_values, l_y_values)\n",
    "\n",
    "\n",
    "plt.scatter(l_x_values,l_y_values)\n",
    "plt.plot(l_x_values,regress_values,\"r-\")\n",
    "\n",
    "# Label plot and annotate the line equation\n",
    "plt.xlabel(\"Latitude\")\n",
    "plt.ylabel(\"Max Temp.\")\n",
    "plt.annotate(line_eq,xy=(-20,294),color=\"red\")\n",
    "\n",
    "#Print r values\n",
    "print(f\"The r-value is: {rvalue**2}\")\n",
    "\n",
    "# Show plot\n",
    "plt.show()"
   ]
  },
  {
   "cell_type": "markdown",
   "metadata": {},
   "source": [
    "**Discussion about the linear relationship:** YOUR RESPONSE HERE"
   ]
  },
  {
   "cell_type": "markdown",
   "metadata": {},
   "source": [
    "### Humidity vs. Latitude Linear Regression Plot"
   ]
  },
  {
   "cell_type": "code",
   "execution_count": 114,
   "metadata": {},
   "outputs": [
    {
     "name": "stdout",
     "output_type": "stream",
     "text": [
      "City_ID\n",
      "3   NaN\n",
      "Name: Lat, dtype: float64\n",
      "y = nanx +nan\n",
      "The r-value is: 0.0\n"
     ]
    },
    {
     "data": {
      "image/png": "[encoded data removed]",
      "text/plain": [
       "<Figure size 640x480 with 1 Axes>"
      ]
     },
     "metadata": {},
     "output_type": "display_data"
    }
   ],
   "source": [
    "# Northern Hemisphere\n",
    "l_x_values = northern_hemi_df[\"Lat\"]\n",
    "l_y_values = northern_hemi_df[\"Humidity\"]\n",
    "(regress_values, rvalue, line_eq) = lin_regress(l_x_values, l_y_values)\n",
    "\n",
    "\n",
    "plt.scatter(l_x_values,l_y_values)\n",
    "plt.plot(l_x_values,regress_values,\"r-\")\n",
    "\n",
    "# Label plot and annotate the line equation\n",
    "plt.xlabel(\"Latitude\")\n",
    "plt.ylabel(\"Max Temp.\")\n",
    "plt.annotate(line_eq,(42,72),fontsize=15,color=\"red\")\n",
    "\n",
    "#Print r values\n",
    "print(f\"The r-value is: {rvalue**2}\")\n",
    "\n",
    "# Show plot\n",
    "plt.show()"
   ]
  },
  {
   "cell_type": "code",
   "execution_count": 115,
   "metadata": {},
   "outputs": [
    {
     "name": "stdout",
     "output_type": "stream",
     "text": [
      "City_ID\n",
      "0    73.997340\n",
      "1    48.959218\n",
      "2    39.043442\n",
      "Name: Lat, dtype: float64\n",
      "y = 0.79x +75.55\n",
      "The r-value is: 0.8914858789596992\n"
     ]
    },
    {
     "data": {
      "image/png": "[encoded data removed]",
      "text/plain": [
       "<Figure size 640x480 with 1 Axes>"
      ]
     },
     "metadata": {},
     "output_type": "display_data"
    }
   ],
   "source": [
    "# Southern Hemisphere\n",
    "l_x_values = southern_hemi_df[\"Lat\"]\n",
    "l_y_values = southern_hemi_df[\"Humidity\"]\n",
    "(regress_values, rvalue, line_eq) = lin_regress(l_x_values, l_y_values)\n",
    "\n",
    "\n",
    "plt.scatter(l_x_values,l_y_values)\n",
    "plt.plot(l_x_values,regress_values,\"r-\")\n",
    "\n",
    "# Label plot and annotate the line equation\n",
    "plt.xlabel(\"Latitude\")\n",
    "plt.ylabel(\"Max Temp.\")\n",
    "plt.annotate(line_eq,(-40,35),fontsize=15,color=\"red\")\n",
    "\n",
    "#Print r values\n",
    "print(f\"The r-value is: {rvalue**2}\")\n",
    "\n",
    "# Show plot\n",
    "plt.show()"
   ]
  },
  {
   "cell_type": "markdown",
   "metadata": {},
   "source": [
    "**Discussion about the linear relationship:** YOUR RESPONSE HERE"
   ]
  },
  {
   "cell_type": "markdown",
   "metadata": {},
   "source": [
    "### Cloudiness vs. Latitude Linear Regression Plot"
   ]
  },
  {
   "cell_type": "code",
   "execution_count": 116,
   "metadata": {},
   "outputs": [
    {
     "name": "stdout",
     "output_type": "stream",
     "text": [
      "City_ID\n",
      "3   NaN\n",
      "Name: Lat, dtype: float64\n",
      "y = nanx +nan\n",
      "The r-value is: 0.0\n"
     ]
    },
    {
     "data": {
      "image/png": "[encoded data removed]",
      "text/plain": [
       "<Figure size 640x480 with 1 Axes>"
      ]
     },
     "metadata": {},
     "output_type": "display_data"
    }
   ],
   "source": [
    "# Northern Hemisphere\n",
    "l_x_values = northern_hemi_df[\"Lat\"]\n",
    "l_y_values = northern_hemi_df[\"Cloudiness\"]\n",
    "(regress_values, rvalue, line_eq) = lin_regress(l_x_values, l_y_values)\n",
    "\n",
    "\n",
    "plt.scatter(l_x_values,l_y_values)\n",
    "plt.plot(l_x_values,regress_values,\"r-\")\n",
    "\n",
    "# Label plot and annotate the line equation\n",
    "plt.xlabel(\"Latitude\")\n",
    "plt.ylabel(\"Max Temp.\")\n",
    "plt.annotate(line_eq,(41,80),fontsize=15,color=\"red\")\n",
    "\n",
    "#Print r values\n",
    "print(f\"The r-value is: {rvalue**2}\")\n",
    "\n",
    "# Show plot\n",
    "plt.show()"
   ]
  },
  {
   "cell_type": "code",
   "execution_count": 118,
   "metadata": {},
   "outputs": [
    {
     "name": "stdout",
     "output_type": "stream",
     "text": [
      "City_ID\n",
      "0    85.502478\n",
      "1    32.703647\n",
      "2    11.793875\n",
      "Name: Lat, dtype: float64\n",
      "y = 1.67x +88.77\n",
      "The r-value is: 0.9847467174464947\n"
     ]
    },
    {
     "data": {
      "image/png": "[encoded data removed]",
      "text/plain": [
       "<Figure size 640x480 with 1 Axes>"
      ]
     },
     "metadata": {},
     "output_type": "display_data"
    }
   ],
   "source": [
    "# Southern Hemisphere\n",
    "l_x_values = southern_hemi_df[\"Lat\"]\n",
    "l_y_values = southern_hemi_df[\"Cloudiness\"]\n",
    "(regress_values, rvalue, line_eq) = lin_regress(l_x_values, l_y_values)\n",
    "\n",
    "\n",
    "plt.scatter(l_x_values,l_y_values)\n",
    "plt.plot(l_x_values,regress_values,\"r-\")\n",
    "\n",
    "# Label plot and annotate the line equation\n",
    "plt.xlabel(\"Latitude\")\n",
    "plt.ylabel(\"Max Temp.\")\n",
    "plt.annotate(line_eq,(-40,60),fontsize=15,color=\"red\")\n",
    "\n",
    "#Print r values\n",
    "print(f\"The r-value is: {rvalue**2}\")\n",
    "\n",
    "# Show plot\n",
    "plt.show()"
   ]
  },
  {
   "cell_type": "markdown",
   "metadata": {},
   "source": [
    "**Discussion about the linear relationship:** YOUR RESPONSE HERE"
   ]
  },
  {
   "cell_type": "markdown",
   "metadata": {},
   "source": [
    "### Wind Speed vs. Latitude Linear Regression Plot"
   ]
  },
  {
   "cell_type": "code",
   "execution_count": 119,
   "metadata": {},
   "outputs": [
    {
     "name": "stdout",
     "output_type": "stream",
     "text": [
      "City_ID\n",
      "3   NaN\n",
      "Name: Lat, dtype: float64\n",
      "y = nanx +nan\n",
      "The r-value is: 0.0\n"
     ]
    },
    {
     "data": {
      "image/png": "[encoded data removed]",
      "text/plain": [
       "<Figure size 640x480 with 1 Axes>"
      ]
     },
     "metadata": {},
     "output_type": "display_data"
    }
   ],
   "source": [
    "# Northern Hemisphere\n",
    "l_x_values = northern_hemi_df[\"Lat\"]\n",
    "l_y_values = northern_hemi_df[\"Wind Speed\"]\n",
    "(regress_values, rvalue, line_eq) = lin_regress(l_x_values, l_y_values)\n",
    "\n",
    "\n",
    "plt.scatter(l_x_values,l_y_values)\n",
    "plt.plot(l_x_values,regress_values,\"r-\")\n",
    "\n",
    "# Label plot and annotate the line equation\n",
    "plt.xlabel(\"Latitude\")\n",
    "plt.ylabel(\"Max Temp.\")\n",
    "plt.annotate(line_eq,(-40,60),fontsize=15,color=\"red\")\n",
    "\n",
    "#Print r values\n",
    "print(f\"The r-value is: {rvalue**2}\")\n",
    "\n",
    "# Show plot\n",
    "plt.show()"
   ]
  },
  {
   "cell_type": "code",
   "execution_count": 120,
   "metadata": {},
   "outputs": [
    {
     "name": "stdout",
     "output_type": "stream",
     "text": [
      "City_ID\n",
      "0    1.817338\n",
      "1    2.563567\n",
      "2    2.859094\n",
      "Name: Lat, dtype: float64\n",
      "y = -0.02x +1.77\n",
      "The r-value is: 0.0407960466528232\n"
     ]
    },
    {
     "data": {
      "image/png": "[encoded data removed]",
      "text/plain": [
       "<Figure size 640x480 with 1 Axes>"
      ]
     },
     "metadata": {},
     "output_type": "display_data"
    }
   ],
   "source": [
    "# Southern Hemisphere\n",
    "l_x_values = southern_hemi_df[\"Lat\"]\n",
    "l_y_values = southern_hemi_df[\"Wind Speed\"]\n",
    "(regress_values, rvalue, line_eq) = lin_regress(l_x_values, l_y_values)\n",
    "\n",
    "\n",
    "plt.scatter(l_x_values,l_y_values)\n",
    "plt.plot(l_x_values,regress_values,\"r-\")\n",
    "\n",
    "# Label plot and annotate the line equation\n",
    "plt.xlabel(\"Latitude\")\n",
    "plt.ylabel(\"Max Temp.\")\n",
    "plt.annotate(line_eq,(-40,60),fontsize=15,color=\"red\")\n",
    "\n",
    "#Print r values\n",
    "print(f\"The r-value is: {rvalue**2}\")\n",
    "\n",
    "# Show plot\n",
    "plt.show()"
   ]
  },
  {
   "cell_type": "markdown",
   "metadata": {},
   "source": [
    "**Discussion about the linear relationship:** YOUR RESPONSE HERE"
   ]
  },
  {
   "cell_type": "code",
   "execution_count": null,
   "metadata": {},
   "outputs": [],
   "source": []
  }
 ],
 "metadata": {
  "anaconda-cloud": {},
  "kernel_info": {
   "name": "python3"
  },
  "kernelspec": {
   "display_name": "base",
   "language": "python",
   "name": "python3"
  },
  "language_info": {
   "codemirror_mode": {
    "name": "ipython",
    "version": 3
   },
   "file_extension": ".py",
   "mimetype": "text/x-python",
   "name": "python",
   "nbconvert_exporter": "python",
   "pygments_lexer": "ipython3",
   "version": "3.9.13"
  },
  "latex_envs": {
   "LaTeX_envs_menu_present": true,
   "autoclose": false,
   "autocomplete": true,
   "bibliofile": "biblio.bib",
   "cite_by": "apalike",
   "current_citInitial": 1,
   "eqLabelWithNumbers": true,
   "eqNumInitial": 1,
   "hotkeys": {
    "equation": "Ctrl-E",
    "itemize": "Ctrl-I"
   },
   "labels_anchors": false,
   "latex_user_defs": false,
   "report_style_numbering": false,
   "user_envs_cfg": false
  },
  "nteract": {
   "version": "0.12.3"
  },
  "vscode": {
   "interpreter": {
    "hash": "40d3a090f54c6569ab1632332b64b2c03c39dcf918b08424e98f38b5ae0af88f"
   }
  }
 },
 "nbformat": 4,
 "nbformat_minor": 4
}
