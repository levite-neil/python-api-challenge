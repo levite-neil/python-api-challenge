{
 "cells": [
  {
   "cell_type": "markdown",
   "metadata": {},
   "source": [
    "# WeatherPy\n",
    "\n",
    "---\n",
    "\n",
    "## Starter Code to Generate Random Geographic Coordinates and a List of Cities"
   ]
  },
  {
   "cell_type": "code",
   "execution_count": 125,
   "metadata": {
    "scrolled": true
   },
   "outputs": [],
   "source": [
    "# Dependencies and Setup\n",
    "import matplotlib.pyplot as plt\n",
    "import pandas as pd\n",
    "import numpy as np\n",
    "import requests\n",
    "import time\n",
    "import json, pprint\n",
    "from scipy.stats import linregress\n",
    "\n",
    "# Impor the OpenWeatherMap API key\n",
    "from api_keys import weather_api_key, geoapify_key\n",
    "\n",
    "# Import citipy to determine the cities based on latitude and longitude\n",
    "from citipy import citipy"
   ]
  },
  {
   "cell_type": "markdown",
   "metadata": {},
   "source": [
    "### Generate the Cities List by Using the `citipy` Library"
   ]
  },
  {
   "cell_type": "code",
   "execution_count": 132,
   "metadata": {},
   "outputs": [
    {
     "name": "stdout",
     "output_type": "stream",
     "text": [
      "Number of cities in the list: 622\n",
      "['ushuaia', 'rikitea', 'hermanus', 'taolanaro', 'yabrud', 'tasiilaq', 'yellowknife', 'umzimvubu', 'hithadhoo', 'nelson bay', 'tuatapere', 'jamestown', 'geraldton', 'jaguaruna', 'trapani', 'el faiyum', 'tuktoyaktuk', 'iquique', 'saskylakh', 'port alfred', 'laguna', 'kununurra', 'kloulklubed', 'carnarvon', 'ostrovnoy', 'tual', 'shepetivka', 'isangel', 'qui nhon', 'chumikan', 'ntcheu', 'merauke', 'mahibadhoo', 'punta arenas', 'hobart', 'bluff', 'kapaa', 'bandiagara', 'albany', 'saint-philippe', 'montepuez', 'mangaratiba', 'lavrentiya', 'nikolskoye', 'khatanga', 'orlik', 'state college', 'broome', 'cidreira', 'vaitupu', 'barentsburg', 'olhao', 'varna', 'puerto leguizamo', 'chuy', 'cape town', 'bolungarvik', 'pahrump', 'sao filipe', 'avarua', 'attawapiskat', 'coquimbo', 'omachi', 'saldanha', 'maltahohe', 'puerto ayora', 'nuevo progreso', 'provideniya', 'wattegama', 'nabire', 'leningradskiy', 'wyndham', 'grand river south east', 'tarrega', 'kahului', 'mar del plata', 'flin flon', 'bredasdorp', 'cedar falls', 'mozirje', 'thompson', 'atuona', 'port keats', 'filadelfia', 'yialos', 'busselton', 'lagodekhi', 'sakaiminato', 'flinders', 'vaini', 'codrington', 'hilo', 'shagonar', 'seybaplaya', 'bartica', 'upernavik', 'altenholz', 'souillac', 'amderma', 'yulara', 'nishihara', 'samusu', 'gonbad-e qabus', 'faanui', 'qaqortoq', 'le port', 'cabo san lucas', 'la palma', 'asau', 'dikson', 'mataura', 'diego de almagro', 'taitung', 'abha', 'klaksvik', 'georgetown', 'hasaki', 'kenai', 'butaritari', 'meadow lake', 'linxia', 'pitimbu', 'kokopo', 'castro', 'scarborough', 'umm lajj', 'ixtapa', 'arraial do cabo', 'charters towers', 'chik', 'warqla', 'omboue', 'hami', 'pevek', 'ambulu', 'eskasem', 'portales', 'novska', 'ghanaur', 'bell ville', 'tandil', 'louisbourg', 'kaitangata', 'pailon', 'nisia floresta', 'tongchuan', 'chegdomyn', 'hirara', 'nouadhibou', 'college', 'port elizabeth', 'vikhorevka', 'verkhnevilyuysk', 'longyearbyen', 'lasa', 'kamenka', 'touros', 'qaanaaq', 'new norfolk', 'east london', 'mehamn', 'tiksi', 'berlevag', 'opuwo', 'saint george', 'arcachon', 'kurumkan', 'ustyuzhna', 'mahebourg', 'antananarivo', 'saleaula', 'ancud', 'novobataysk', 'shingu', 'port hardy', 'meyungs', 'mayo', 'asfi', 'belushya guba', 'baykit', 'luanda', 'aklavik', 'north bend', 'marrakesh', 'mohacs', 'hvide sande', 'salalah', 'dunedin', 'lolua', 'esperance', 'acajutla', 'cubuk', 'gobardanga', 'urucara', 'mrirt', 'chulakivka', 'sambava', 'foumban', 'tumannyy', 'kodiak', 'cherskiy', 'vanimo', 'kstovo', 'ribeira grande', 'half moon bay', 'haradok', 'ammon', 'bilibino', 'tsihombe', 'victoria', 'nizhneyansk', 'plettenberg bay', 'srednekolymsk', 'klokkarvik', 'alekseyevka', 'baisha', 'khipro', 'lompoc', 'iqaluit', 'quang ngai', 'cayenne', 'ibra', 'zheshart', 'kashi', 'mys shmidta', 'rameswaram', 'okhotsk', 'trinidad', 'potgietersrus', 'togur', 'makakilo city', 'beberibe', 'anadyr', 'huarmey', 'urulga', 'hofn', 'kavaratti', 'caravelas', 'anavissos', 'lindas', 'khasan', 'izumo', 'ulladulla', 'teya', 'araouane', 'corpus christi', 'barrow', 'vasilati', 'penzance', 'portobelo', 'puro', 'bambous virieux', 'maniitsoq', 'kargasok', 'koygorodok', 'saurimo', 'itoman', 'zhitikara', 'severo-kurilsk', 'kismayo', 'arvika', 'nivala', 'ayios matthaios', 'quatre cocos', 'byron bay', 'hai phong', 'torbay', 'udachnyy', 'bairiki', 'morro bay', 'rhyl', 'calamar', 'bubaque', 'daraitan', 'baruun-urt', 'kiknur', 'yenagoa', 'fairbanks', 'ventspils', 'port blair', 'fevralsk', 'revelstoke', 'deputatskiy', 'cap malheureux', 'tema', 'vardo', 'mbour', 'nikolayevsk-na-amure', 'port shepstone', 'isiro', 'dinsor', 'hamilton', 'windsor', 'khonuu', 'duluth', 'wagar', 'ahipara', 'bunda', 'mount gambier', 'adrar', 'erzin', 'padang', 'lata', 'iralaya', 'sitka', 'honiara', 'caceres', 'kruisfontein', 'tuggurt', 'katsuura', 'broken hill', 'kaliyaganj', 'forbes', 'sibolga', 'ridgecrest', 'ilulissat', 'anuradhapura', 'ostersund', 'chokurdakh', 'saint-joseph', 'karamea', 'zabid', 'ugoofaaru', 'chardara', 'camacha', 'karaul', 'blankenberge', 'lusambo', 'atar', 'alepe', 'mikhaylovka', 'liberty', 'barvinkove', 'asyut', 'kulhudhuffushi', 'tura', 'sfantu gheorghe', 'isla mujeres', 'somerset', 'labuhan', 'arlit', 'pastos bons', 'maghama', 'umm kaddadah', 'avera', 'santa teresa', 'bethel', 'grindavik', 'paka', 'mangrol', 'lagoa', 'vila franca do campo', 'sao miguel', 'siedlce', 'buraydah', 'saint anthony', 'severnyy', 'ondorhaan', 'murgab', 'koshurnikovo', 'walvis bay', 'jining', 'guerrero negro', 'shimoda', 'beyneu', 'sioux lookout', 'naze', 'fayetteville', 'carndonagh', 'oranzherei', 'cumaribo', 'batemans bay', 'amga', 'mgandu', 'vestmannaeyjar', 'ozernovskiy', 'samarai', 'alofi', 'yendi', 'arroio grande', 'putina', 'collie', 'hualmay', 'pacific grove', 'road town', 'san cristobal', 'mount isa', 'bolshoy uluy', 'nome', 'kadyy', 'lisakovsk', 'lebu', 'lorengau', 'stoyba', 'zeerust', 'chissamba', 'nanortalik', 'nguiu', 'la rioja', 'rio grande', 'egvekinot', 'tygda', 'moerai', 'atambua', 'manzil tamim', 'shaunavon', 'mokhsogollokh', 'kieta', 'bogorodskoye', 'bagdarin', 'illoqqortoormiut', 'shinyanga', 'varhaug', 'aguas vermelhas', 'burica', 'svetlaya', 'mataram', 'hobyo', 'ruatoria', 'olonets', 'inhambane', 'ayan', 'treinta y tres', 'solovetskiy', 'qarayeri', 'ayorou', 'sarankhola', 'sakakah', 'hailar', 'santa cruz de tenerife', 'andselv', 'fort nelson', 'vihti', 'usinsk', 'clyde river', 'westport', 'djibo', 'chitipa', 'maragogi', 'vao', 'san patricio', 'weihai', 'meulaboh', 'bengkulu', 'yashkul', 'moree', 'namibe', 'gat', 'kazachinskoye', 'jinchang', 'biak', 'princeton', 'ciuperceni', 'progreso', 'evensk', 'vanavara', 'tiarei', 'coihaique', 'sokolac', 'ughelli', 'mokolo', 'salym', 'vaitape', 'dungarvan', 'urumqi', 'heerenveen', 'roald', 'kirakira', 'coahuayana', 'vila', 'jardim', 'alice springs', 'tautira', 'siocon', 'rawson', 'narsaq', 'aswan', 'talnakh', 'pangai', 'constitucion', 'norman wells', 'port hedland', 'prince rupert', 'tezu', 'amuntai', 'brainerd', 'rolim de moura', 'manta', 'chepareria', 'havre-saint-pierre', 'funtua', 'craig', 'aneby', 'palana', 'kyrylivka', 'san rafael', 'rivera', 'thessalon', 'petropavlovsk-kamchatskiy', 'estacion coahuila', 'iwanai', 'novotroitskaya', 'sedalia', 'seoul', 'sarangani', 'ponta do sol', 'juegang', 'catuday', 'santa vitoria do palmar', 'japura', 'truro', 'channel-port aux basques', 'pandan', 'la ronge', 'tigil', 'at-bashi', 'chaumont', 'chandausi', 'aras', 'xai-xai', 'vicuna', 'tiznit', 'zlobin', 'pembroke', 'beloha', 'sentyabrskiy', 'polunochnoye', 'jujuy', 'sirjan', 'sangar', 'ryotsu', 'tete', 'itarema', 'taltal', 'guelengdeng', 'megion', 'kedrovyy', 'korla', 'port lincoln', 'marsa matruh', 'tommot', 'amarante do maranhao', 'alta floresta', 'key west', 'santa marta', 'kati', 'alpena', 'peniche', 'igarka', 'garowe', 'abaza', 'mareeba', 'koindu', 'kampot', 'uray', 'kavieng', 'waw', 'neuquen', 'ye', 'geldermalsen', 'ola', 'dauphin', 'ternate', 'rorvik', 'saryshagan', 'chernyshevskiy', 'wilmington', 'woodward', 'tabiauea', 'ofunato', 'graaff-reinet', 'bulaevo', 'veracruz', 'olafsvik', 'ferme-neuve', 'vitim', 'henties bay', 'husavik', 'hangzhou', 'dan khun thot', 'dawson creek', 'acapulco', 'dubrovka', 'sao gabriel da cachoeira', 'los llanos de aridane', 'xifeng', 'ballina', 'chara', 'karasuk', 'khawhai', 'liverpool', 'marcona', 'north myrtle beach', 'north branch', 'san lorenzo', 'yaan', 'mashhad', 'ginda', 'belaya gora', 'hachinohe', 'portland', 'hambantota', 'prince albert', 'chanute', 'port macquarie', 'ukiah', 'airai', 'pangody', 'zhigansk', 'kurilsk', 'sohagpur', 'alotau', 'ereymentau', 'la paz', 'ziro', 'sao caetano de odivelas', 'poum', 'porto torres', 'chaman', 'emerald', 'merritt island', 'beeville']\n"
     ]
    }
   ],
   "source": [
    "# Empty list for holding the latitude and longitude combinations\n",
    "lat_lngs = []\n",
    "\n",
    "# Empty list for holding the cities names\n",
    "cities = []\n",
    "\n",
    "# Range of latitudes and longitudes\n",
    "lat_range = (-90, 90)\n",
    "lng_range = (-180, 180)\n",
    "\n",
    "# Create a set of random lat and lng combinations\n",
    "lats = np.random.uniform(lat_range[0], lat_range[1], size=1500)\n",
    "lngs = np.random.uniform(lng_range[0], lng_range[1], size=1500)\n",
    "lat_lngs = zip(lats, lngs)\n",
    "\n",
    "# Identify nearest city for each lat, lng combination\n",
    "for lat_lng in lat_lngs:\n",
    "    city = citipy.nearest_city(lat_lng[0], lat_lng[1]).city_name\n",
    "    # If the city is unique, then add it to a our cities list\n",
    "    if city not in cities:\n",
    "        cities.append(city)\n",
    "\n",
    "# Print the city count to confirm sufficient count\n",
    "print(f\"Number of cities in the list: {len(cities)}\")\n",
    "print(cities)"
   ]
  },
  {
   "cell_type": "markdown",
   "metadata": {},
   "source": [
    "---"
   ]
  },
  {
   "cell_type": "markdown",
   "metadata": {},
   "source": [
    "## Requirement 1: Create Plots to Showcase the Relationship Between Weather Variables and Latitude\n",
    "\n",
    "### Use the OpenWeatherMap API to retrieve weather data from the cities list generated in the started code"
   ]
  },
  {
   "cell_type": "code",
   "execution_count": 147,
   "metadata": {},
   "outputs": [
    {
     "name": "stdout",
     "output_type": "stream",
     "text": [
      "ushuaia\n",
      "[\n",
      "    {\n",
      "        \"country\": \"AR\",\n",
      "        \"lat\": -54.806115899999995,\n",
      "        \"lon\": -68.3184972880496,\n",
      "        \"name\": \"Ushuaia\",\n",
      "        \"state\": \"Tierra del Fuego Province\"\n",
      "    }\n",
      "]\n",
      "rikitea\n",
      "[\n",
      "    {\n",
      "        \"country\": \"FR\",\n",
      "        \"lat\": -23.1229544,\n",
      "        \"local_names\": {\n",
      "            \"fr\": \"Rikitea\",\n",
      "            \"ru\": \"\\u0420\\u0438\\u043a\\u0438\\u0442\\u0435\\u0430\"\n",
      "        },\n",
      "        \"lon\": -134.9680141,\n",
      "        \"name\": \"Rikitea\",\n",
      "        \"state\": \"French Polynesia\"\n",
      "    }\n",
      "]\n",
      "hermanus\n",
      "[\n",
      "    {\n",
      "        \"country\": \"ZA\",\n",
      "        \"lat\": -34.4175,\n",
      "        \"local_names\": {\n",
      "            \"af\": \"Hermanus\",\n",
      "            \"ar\": \"\\u0647\\u064a\\u0631\\u0645\\u0627\\u0646\\u0648\\u0633\",\n",
      "            \"de\": \"Hermanus\",\n",
      "            \"es\": \"Hermanus\",\n",
      "            \"et\": \"Hermanus\",\n",
      "            \"fr\": \"Hermanus\",\n",
      "            \"it\": \"Hermanus\",\n",
      "            \"mg\": \"Hermanus\",\n",
      "            \"nl\": \"Hermanus\",\n",
      "            \"pl\": \"Hermanus\",\n",
      "            \"ro\": \"Hermanus\",\n",
      "            \"ru\": \"\\u0425\\u0435\\u0440\\u043c\\u0430\\u043d\\u0443\\u0441\",\n",
      "            \"vi\": \"Hermanus\",\n",
      "            \"zh\": \"\\u8d6b\\u723e\\u99ac\\u52aa\\u65af\",\n",
      "            \"zu\": \"IHermanus\"\n",
      "        },\n",
      "        \"lon\": 19.2361111,\n",
      "        \"name\": \"Hermanus\",\n",
      "        \"state\": \"Western Cape\"\n",
      "    }\n",
      "]\n",
      "taolanaro\n",
      "[]\n",
      "City not found. Skippting...\n",
      "yabrud\n",
      "[\n",
      "    {\n",
      "        \"country\": \"SY\",\n",
      "        \"lat\": 33.9665336,\n",
      "        \"local_names\": {\n",
      "            \"ar\": \"\\u064a\\u0628\\u0631\\u0648\\u062f\",\n",
      "            \"de\": \"Yabrud\",\n",
      "            \"en\": \"Yabrud\",\n",
      "            \"es\": \"Yabrud\",\n",
      "            \"fa\": \"\\u06cc\\u0628\\u0631\\u0648\\u062f\",\n",
      "            \"fr\": \"Yabro\\u00fbd\",\n",
      "            \"he\": \"\\u05d9\\u05d1\\u05e8\\u05d5\\u05d3\",\n",
      "            \"lt\": \"Jabrudas\",\n",
      "            \"ml\": \"\\u0d2f\\u0d2c\\u0d4d\\u0d30\\u0d42\\u0d26\\u0d4d\",\n",
      "            \"ru\": \"\\u042f\\u0431\\u0440\\u0443\\u0434\",\n",
      "            \"ur\": \"\\u06cc\\u0628\\u0631\\u0648\\u062f\"\n",
      "        },\n",
      "        \"lon\": 36.6609885,\n",
      "        \"name\": \"Yabrud\",\n",
      "        \"state\": \"Rif Dimashq Governorate\"\n",
      "    }\n",
      "]\n",
      "tasiilaq\n",
      "[\n",
      "    {\n",
      "        \"country\": \"GL\",\n",
      "        \"lat\": 65.6152573,\n",
      "        \"local_names\": {\n",
      "            \"ar\": \"\\u062a\\u0627\\u0633\\u064a\\u0644\\u0627\\u0643\",\n",
      "            \"he\": \"\\u05d8\\u05d0\\u05e1\\u05d9\\u05d0\\u05d9\\u05dc\\u05e7\",\n",
      "            \"ja\": \"\\u30bf\\u30b7\\u30fc\\u30e9\\u30af\",\n",
      "            \"ka\": \"\\u10e2\\u10d0\\u10e1\\u10d8\\u10d8\\u10da\\u10d0\\u10d9\\u10d8\",\n",
      "            \"kl\": \"Tasiilaq\",\n",
      "            \"ko\": \"\\ud0c0\\uc2e4\\ub77c\\ud06c\",\n",
      "            \"lt\": \"Tasilakas\",\n",
      "            \"mk\": \"\\u0422\\u0430\\u0441\\u0438\\u043b\\u0430\\u043a\",\n",
      "            \"ru\": \"\\u0422\\u0430\\u0441\\u0438\\u0438\\u043b\\u0430\\u043a\",\n",
      "            \"sv\": \"Tasiilaq\",\n",
      "            \"uk\": \"\\u0410\\u043c\\u043c\\u0430\\u0441\\u0441\\u0430\\u043b\\u0456\\u043a (\\u0422\\u0430\\u0441\\u0456\\u0456\\u043b\\u0430\\u043a)\"\n",
      "        },\n",
      "        \"lon\": -37.6378149,\n",
      "        \"name\": \"Tasiilaq\"\n",
      "    }\n",
      "]\n",
      "yellowknife\n",
      "[\n",
      "    {\n",
      "        \"country\": \"CA\",\n",
      "        \"lat\": 62.4540807,\n",
      "        \"local_names\": {\n",
      "            \"ar\": \"\\u064a\\u0644\\u0648\\u0646\\u0627\\u064a\\u0641\",\n",
      "            \"en\": \"Yellowknife\",\n",
      "            \"lt\": \"Jelounaifas\",\n",
      "            \"ru\": \"\\u0419\\u0435\\u043b\\u043b\\u043e\\u0443\\u043d\\u0430\\u0439\\u0444\",\n",
      "            \"uk\": \"\\u0404\\u043b\\u043b\\u043e\\u0443\\u043d\\u0430\\u0439\\u0444\",\n",
      "            \"zh\": \"\\u9ec4\\u5200\\u9547\\uff08\\u8036\\u6d1b\\u5948\\u592b\\uff09\"\n",
      "        },\n",
      "        \"lon\": -114.377385,\n",
      "        \"name\": \"Yellowknife\",\n",
      "        \"state\": \"Northwest Territories\"\n",
      "    }\n",
      "]\n",
      "umzimvubu\n",
      "[\n",
      "    {\n",
      "        \"country\": \"ZA\",\n",
      "        \"lat\": -30.82491,\n",
      "        \"lon\": 28.92177617804983,\n",
      "        \"name\": \"Umzimvubu Local Municipality\",\n",
      "        \"state\": \"Eastern Cape\"\n",
      "    }\n",
      "]\n",
      "hithadhoo\n",
      "[\n",
      "    {\n",
      "        \"country\": \"MV\",\n",
      "        \"lat\": 1.7959425,\n",
      "        \"local_names\": {\n",
      "            \"dv\": \"\\u0780\\u07a8\\u078c\\u07a6\\u078b\\u07ab\",\n",
      "            \"en\": \"Hithadhoo\"\n",
      "        },\n",
      "        \"lon\": 73.38755195657038,\n",
      "        \"name\": \"Hithadhoo\",\n",
      "        \"state\": \"Haddhunmathi\"\n",
      "    }\n",
      "]\n",
      "nelson bay\n",
      "[\n",
      "    {\n",
      "        \"country\": \"AU\",\n",
      "        \"lat\": -32.7218138,\n",
      "        \"lon\": 152.1440889,\n",
      "        \"name\": \"Nelson Bay\",\n",
      "        \"state\": \"New South Wales\"\n",
      "    }\n",
      "]\n",
      "tuatapere\n",
      "[\n",
      "    {\n",
      "        \"country\": \"NZ\",\n",
      "        \"lat\": -46.1323096,\n",
      "        \"local_names\": {\n",
      "            \"mi\": \"T\\u016b\\u0101tapere\",\n",
      "            \"mk\": \"\\u0422\\u0443\\u0430\\u0442\\u0430\\u043f\\u0435\\u0440\\u0435\"\n",
      "        },\n",
      "        \"lon\": 167.6907627,\n",
      "        \"name\": \"Tuatapere\",\n",
      "        \"state\": \"Southland\"\n",
      "    }\n",
      "]\n",
      "jamestown\n",
      "[\n",
      "    {\n",
      "        \"country\": \"SH\",\n",
      "        \"lat\": -15.9277296,\n",
      "        \"local_names\": {\n",
      "            \"ar\": \"\\u062c\\u064a\\u0645\\u0632 \\u062a\\u0648\\u0646\",\n",
      "            \"el\": \"\\u03a4\\u03b6\\u03ad\\u03b9\\u03bc\\u03c3\\u03c4\\u03b1\\u03bf\\u03c5\\u03bd\",\n",
      "            \"en\": \"Jamestown\",\n",
      "            \"es\": \"Jamestown\",\n",
      "            \"fa\": \"\\u062c\\u06cc\\u0645\\u0632\\u062a\\u0648\\u0646\",\n",
      "            \"fr\": \"Jamestown\",\n",
      "            \"hu\": \"Jamestown\",\n",
      "            \"lt\": \"D\\u017eeimstaunas\",\n",
      "            \"mk\": \"\\u040f\\u0435\\u0458\\u043c\\u0441\\u0442\\u0430\\u0443\\u043d\",\n",
      "            \"ru\": \"\\u0414\\u0436\\u0435\\u0439\\u043c\\u0441\\u0442\\u0430\\u0443\\u043d\",\n",
      "            \"ur\": \"\\u062c\\u06cc\\u0645\\u0632 \\u0679\\u0627\\u0648\\u0646\"\n",
      "        },\n",
      "        \"lon\": -5.7160872,\n",
      "        \"name\": \"Jamestown\",\n",
      "        \"state\": \"Saint Helena\"\n",
      "    }\n",
      "]\n",
      "geraldton\n",
      "[\n",
      "    {\n",
      "        \"country\": \"AU\",\n",
      "        \"lat\": -28.77035,\n",
      "        \"local_names\": {\n",
      "            \"en\": \"Geraldton\",\n",
      "            \"ja\": \"\\u30b8\\u30a7\\u30e9\\u30eb\\u30c8\\u30f3\",\n",
      "            \"ru\": \"\\u0414\\u0436\\u0435\\u0440\\u0430\\u043b\\u0434\\u0442\\u043e\\u043d\",\n",
      "            \"uk\": \"\\u0414\\u0436\\u0435\\u0440\\u0430\\u043b\\u044c\\u0434\\u0442\\u043e\\u043d\"\n",
      "        },\n",
      "        \"lon\": 114.6147159,\n",
      "        \"name\": \"Geraldton\",\n",
      "        \"state\": \"Western Australia\"\n",
      "    }\n",
      "]\n",
      "jaguaruna\n",
      "[\n",
      "    {\n",
      "        \"country\": \"BR\",\n",
      "        \"lat\": -28.6237365,\n",
      "        \"lon\": -49.0288664,\n",
      "        \"name\": \"Jaguaruna\",\n",
      "        \"state\": \"Santa Catarina\"\n",
      "    }\n",
      "]\n",
      "trapani\n",
      "[\n",
      "    {\n",
      "        \"country\": \"IT\",\n",
      "        \"lat\": 38.0174321,\n",
      "        \"local_names\": {\n",
      "            \"an\": \"Tr\\u00e0pani\",\n",
      "            \"ar\": \"\\u062a\\u0631\\u0627\\u0628\\u0627\\u0646\\u064a\",\n",
      "            \"bg\": \"\\u0422\\u0440\\u0430\\u043f\\u0430\\u043d\\u0438\",\n",
      "            \"el\": \"\\u0394\\u03c1\\u03ad\\u03c0\\u03b1\\u03bd\\u03bf\\u03bd\",\n",
      "            \"en\": \"Trapani\",\n",
      "            \"fa\": \"\\u062a\\u0631\\u0627\\u067e\\u0627\\u0646\\u06cc\",\n",
      "            \"he\": \"\\u05d8\\u05e8\\u05e4\\u05d0\\u05e0\\u05d9\",\n",
      "            \"it\": \"Trapani\",\n",
      "            \"ja\": \"\\u30c8\\u30e9\\u30fc\\u30d1\\u30cb\",\n",
      "            \"la\": \"Drepanum\",\n",
      "            \"pt\": \"Tr\\u00e1pani\",\n",
      "            \"ru\": \"\\u0422\\u0440\\u0430\\u043f\\u0430\\u043d\\u0438\",\n",
      "            \"sr\": \"\\u0422\\u0440\\u0430\\u043f\\u0430\\u043d\\u0438\",\n",
      "            \"uk\": \"\\u0422\\u0440\\u0430\\u043f\\u0430\\u043d\\u0456\",\n",
      "            \"zh\": \"\\u7279\\u62c9\\u5e15\\u5c3c\"\n",
      "        },\n",
      "        \"lon\": 12.515992,\n",
      "        \"name\": \"Trapani\",\n",
      "        \"state\": \"Sicily\"\n",
      "    }\n",
      "]\n",
      "{'geraldton': [-28.77035, 114.6147159],\n",
      " 'hermanus': [-34.4175, 19.2361111],\n",
      " 'hithadhoo': [1.7959425, 73.38755195657038],\n",
      " 'jaguaruna': [-28.6237365, -49.0288664],\n",
      " 'jamestown': [-15.9277296, -5.7160872],\n",
      " 'nelson bay': [-32.7218138, 152.1440889],\n",
      " 'rikitea': [-23.1229544, -134.9680141],\n",
      " 'tasiilaq': [65.6152573, -37.6378149],\n",
      " 'trapani': [38.0174321, 12.515992],\n",
      " 'tuatapere': [-46.1323096, 167.6907627],\n",
      " 'umzimvubu': [-30.82491, 28.92177617804983],\n",
      " 'ushuaia': [-54.806115899999995, -68.3184972880496],\n",
      " 'yabrud': [33.9665336, 36.6609885],\n",
      " 'yellowknife': [62.4540807, -114.377385]}\n"
     ]
    }
   ],
   "source": [
    "# The option to use the name of the city has been deperacated and allows only th lat and lon. using geocoding from the\n",
    "# openweathermap provides an accurate response of the lat and lon of the provided city.\n",
    "# Set the API for getting City Lat and Long \n",
    "url_geocoding = \"http://api.openweathermap.org/geo/1.0/direct?\"\n",
    "\n",
    "#Create empty dict\n",
    "city_dict = {}\n",
    "\n",
    "for city in cities[:15]:\n",
    "    #print(city)\n",
    "    #city_dict [city] = [[1,2]]\n",
    "\n",
    "    param = {\n",
    "        \"q\": city,\n",
    "        \"limit\": 1,\n",
    "        \"appid\": weather_api_key\n",
    "    }\n",
    "    print(city)\n",
    "    try:\n",
    "        response = requests.get(url_geocoding, params=param).json()\n",
    "        #print(json.dumps(response, indent=4, sort_keys= True))\n",
    "        city_dict[city] = [response[0][\"lat\"],response[0][\"lon\"]]\n",
    "    except:\n",
    "        print(\"City not found. Skippting...\")\n",
    "        pass\n",
    "\n",
    "#pprint.pprint(city_dict)\n"
   ]
  },
  {
   "cell_type": "code",
   "execution_count": 148,
   "metadata": {},
   "outputs": [
    {
     "name": "stdout",
     "output_type": "stream",
     "text": [
      "Beginning Data Retrieval     \n",
      "-----------------------------\n",
      "Processing Record 1 of Set 1 | ushuaia\n",
      "Processing Record 2 of Set 1 | rikitea\n",
      "Processing Record 3 of Set 1 | hermanus\n",
      "Processing Record 4 of Set 1 | yabrud\n",
      "Processing Record 5 of Set 1 | tasiilaq\n",
      "Processing Record 1 of Set 2 | yellowknife\n",
      "Processing Record 2 of Set 2 | umzimvubu\n",
      "Processing Record 3 of Set 2 | hithadhoo\n",
      "Processing Record 4 of Set 2 | nelson bay\n",
      "Processing Record 5 of Set 2 | tuatapere\n",
      "-----------------------------\n",
      "Data Retrieval Complete      \n",
      "-----------------------------\n"
     ]
    }
   ],
   "source": [
    "# Set the API base URL\n",
    "url = \"https://api.openweathermap.org/data/2.5/weather?\"\n",
    "\n",
    "#create blank dict\n",
    "city_data = []\n",
    "\n",
    "# Print to logger\n",
    "print(\"Beginning Data Retrieval     \")\n",
    "print(\"-----------------------------\")\n",
    "\n",
    "#Create counters\n",
    "record_count = 1\n",
    "set_count = 1\n",
    "\n",
    "#Loop through all the cities\n",
    "for i, city in enumerate(city_dict):\n",
    "\n",
    "    if i == 10:\n",
    "        break\n",
    "    \n",
    "    # Group cities in sets of 50 for logging purposes\n",
    "    if (i % 5 == 0 and i >= 5):\n",
    "        set_count += 1\n",
    "        record_count = 1\n",
    "    \n",
    "    #Create endpoint URL with each city\n",
    "    param ={\n",
    "        \"lat\": city_dict[city][0],\n",
    "        \"lon\": city_dict[city][1],\n",
    "        \"appid\": weather_api_key\n",
    "    }\n",
    "\n",
    "    # Log the url, record, and set numbers\n",
    "    print(\"Processing Record %s of Set %s | %s\" % (record_count, set_count, city))\n",
    "\n",
    "    # Add 1 to the record count\n",
    "    record_count += 1\n",
    "\n",
    "    try:\n",
    "        # Parse the JSON and retrieve data\n",
    "        city_weather = requests.get(url,params=param).json()\n",
    "    \n",
    "        #city_name = list(city_dict.keys())[i]\n",
    "        city_lat = city_weather[\"coord\"][\"lat\"]\n",
    "        city_lng = city_weather[\"coord\"][\"lon\"]\n",
    "        city_max_temp = city_weather[\"main\"][\"temp_max\"]\n",
    "        city_humidity = city_weather[\"main\"][\"humidity\"]\n",
    "        city_clouds = city_weather[\"clouds\"][\"all\"]\n",
    "        city_wind = city_weather[\"wind\"][\"speed\"]\n",
    "        city_country = city_weather[\"sys\"][\"country\"]\n",
    "        city_date = city_weather[\"dt\"]\n",
    "\n",
    "        city_data.append({\"City\": city, \n",
    "                \"Lat\": city_lat, \n",
    "                \"Lng\": city_lng, \n",
    "                \"Max Temp\": city_max_temp,\n",
    "                \"Humidity\": city_humidity,\n",
    "                \"Cloudiness\": city_clouds,\n",
    "                \"Wind Speed\": city_wind,\n",
    "                \"Country\": city_country,\n",
    "                \"Date\": city_date})\n",
    "    except:\n",
    "        print(\"City not found. Skippting...\")\n",
    "        pass\n",
    "\n",
    "#pprint.pprint(city_data)\n",
    "# Indicate that Data Loading is complete \n",
    "print(\"-----------------------------\")\n",
    "print(\"Data Retrieval Complete      \")\n",
    "print(\"-----------------------------\")\n",
    "\n",
    "#print(json.dumps(response, indent = 4, sort_keys=True))\n",
    "#print(city_data)\n"
   ]
  },
  {
   "cell_type": "code",
   "execution_count": 149,
   "metadata": {},
   "outputs": [
    {
     "name": "stdout",
     "output_type": "stream",
     "text": [
      "[{'City': 'ushuaia',\n",
      "  'Cloudiness': 75,\n",
      "  'Country': 'AR',\n",
      "  'Date': 1675013072,\n",
      "  'Humidity': 82,\n",
      "  'Lat': -54.8061,\n",
      "  'Lng': -68.3185,\n",
      "  'Max Temp': 283.98,\n",
      "  'Wind Speed': 7.2},\n",
      " {'City': 'rikitea',\n",
      "  'Cloudiness': 77,\n",
      "  'Country': 'PF',\n",
      "  'Date': 1675013073,\n",
      "  'Humidity': 74,\n",
      "  'Lat': -23.123,\n",
      "  'Lng': -134.968,\n",
      "  'Max Temp': 299,\n",
      "  'Wind Speed': 4.86},\n",
      " {'City': 'hermanus',\n",
      "  'Cloudiness': 100,\n",
      "  'Country': 'ZA',\n",
      "  'Date': 1675013073,\n",
      "  'Humidity': 59,\n",
      "  'Lat': -34.4175,\n",
      "  'Lng': 19.2361,\n",
      "  'Max Temp': 293.62,\n",
      "  'Wind Speed': 10.86},\n",
      " {'City': 'yabrud',\n",
      "  'Cloudiness': 72,\n",
      "  'Country': 'SY',\n",
      "  'Date': 1675013074,\n",
      "  'Humidity': 69,\n",
      "  'Lat': 33.9665,\n",
      "  'Lng': 36.661,\n",
      "  'Max Temp': 279.2,\n",
      "  'Wind Speed': 0.42},\n",
      " {'City': 'tasiilaq',\n",
      "  'Cloudiness': 32,\n",
      "  'Country': 'GL',\n",
      "  'Date': 1675013074,\n",
      "  'Humidity': 79,\n",
      "  'Lat': 65.6153,\n",
      "  'Lng': -37.6378,\n",
      "  'Max Temp': 263.43,\n",
      "  'Wind Speed': 2.32},\n",
      " {'City': 'yellowknife',\n",
      "  'Cloudiness': 20,\n",
      "  'Country': 'CA',\n",
      "  'Date': 1675013075,\n",
      "  'Humidity': 75,\n",
      "  'Lat': 62.4541,\n",
      "  'Lng': -114.3774,\n",
      "  'Max Temp': 241.6,\n",
      "  'Wind Speed': 1.54},\n",
      " {'City': 'umzimvubu',\n",
      "  'Cloudiness': 100,\n",
      "  'Country': 'ZA',\n",
      "  'Date': 1675013075,\n",
      "  'Humidity': 93,\n",
      "  'Lat': -30.8249,\n",
      "  'Lng': 28.9218,\n",
      "  'Max Temp': 283.76,\n",
      "  'Wind Speed': 1.89},\n",
      " {'City': 'hithadhoo',\n",
      "  'Cloudiness': 32,\n",
      "  'Country': 'MV',\n",
      "  'Date': 1675013076,\n",
      "  'Humidity': 74,\n",
      "  'Lat': 1.7959,\n",
      "  'Lng': 73.3876,\n",
      "  'Max Temp': 300.34,\n",
      "  'Wind Speed': 2.83},\n",
      " {'City': 'nelson bay',\n",
      "  'Cloudiness': 100,\n",
      "  'Country': 'AU',\n",
      "  'Date': 1675013076,\n",
      "  'Humidity': 97,\n",
      "  'Lat': -32.7218,\n",
      "  'Lng': 152.1441,\n",
      "  'Max Temp': 295.87,\n",
      "  'Wind Speed': 0.45},\n",
      " {'City': 'tuatapere',\n",
      "  'Cloudiness': 98,\n",
      "  'Country': 'NZ',\n",
      "  'Date': 1675013077,\n",
      "  'Humidity': 63,\n",
      "  'Lat': -46.1323,\n",
      "  'Lng': 167.6908,\n",
      "  'Max Temp': 286.2,\n",
      "  'Wind Speed': 1.76}]\n"
     ]
    }
   ],
   "source": [
    "pprint.pprint(city_data)"
   ]
  },
  {
   "cell_type": "code",
   "execution_count": 150,
   "metadata": {},
   "outputs": [
    {
     "data": {
      "text/plain": [
       "City          10\n",
       "Lat           10\n",
       "Lng           10\n",
       "Max Temp      10\n",
       "Humidity      10\n",
       "Cloudiness    10\n",
       "Wind Speed    10\n",
       "Country       10\n",
       "Date          10\n",
       "dtype: int64"
      ]
     },
     "execution_count": 150,
     "metadata": {},
     "output_type": "execute_result"
    }
   ],
   "source": [
    "# Convert the cities weather data into a Pandas DataFrame\n",
    "city_data_df = pd.DataFrame(city_data)\n",
    "\n",
    "# Show Record Count\n",
    "city_data_df.count()"
   ]
  },
  {
   "cell_type": "code",
   "execution_count": 151,
   "metadata": {},
   "outputs": [
    {
     "data": {
      "text/html": [
       "<div>\n",
       "<style scoped>\n",
       "    .dataframe tbody tr th:only-of-type {\n",
       "        vertical-align: middle;\n",
       "    }\n",
       "\n",
       "    .dataframe tbody tr th {\n",
       "        vertical-align: top;\n",
       "    }\n",
       "\n",
       "    .dataframe thead th {\n",
       "        text-align: right;\n",
       "    }\n",
       "</style>\n",
       "<table border=\"1\" class=\"dataframe\">\n",
       "  <thead>\n",
       "    <tr style=\"text-align: right;\">\n",
       "      <th></th>\n",
       "      <th>City</th>\n",
       "      <th>Lat</th>\n",
       "      <th>Lng</th>\n",
       "      <th>Max Temp</th>\n",
       "      <th>Humidity</th>\n",
       "      <th>Cloudiness</th>\n",
       "      <th>Wind Speed</th>\n",
       "      <th>Country</th>\n",
       "      <th>Date</th>\n",
       "    </tr>\n",
       "  </thead>\n",
       "  <tbody>\n",
       "    <tr>\n",
       "      <th>0</th>\n",
       "      <td>ushuaia</td>\n",
       "      <td>-54.8061</td>\n",
       "      <td>-68.3185</td>\n",
       "      <td>283.98</td>\n",
       "      <td>82</td>\n",
       "      <td>75</td>\n",
       "      <td>7.20</td>\n",
       "      <td>AR</td>\n",
       "      <td>1675013072</td>\n",
       "    </tr>\n",
       "    <tr>\n",
       "      <th>1</th>\n",
       "      <td>rikitea</td>\n",
       "      <td>-23.1230</td>\n",
       "      <td>-134.9680</td>\n",
       "      <td>299.00</td>\n",
       "      <td>74</td>\n",
       "      <td>77</td>\n",
       "      <td>4.86</td>\n",
       "      <td>PF</td>\n",
       "      <td>1675013073</td>\n",
       "    </tr>\n",
       "    <tr>\n",
       "      <th>2</th>\n",
       "      <td>hermanus</td>\n",
       "      <td>-34.4175</td>\n",
       "      <td>19.2361</td>\n",
       "      <td>293.62</td>\n",
       "      <td>59</td>\n",
       "      <td>100</td>\n",
       "      <td>10.86</td>\n",
       "      <td>ZA</td>\n",
       "      <td>1675013073</td>\n",
       "    </tr>\n",
       "    <tr>\n",
       "      <th>3</th>\n",
       "      <td>yabrud</td>\n",
       "      <td>33.9665</td>\n",
       "      <td>36.6610</td>\n",
       "      <td>279.20</td>\n",
       "      <td>69</td>\n",
       "      <td>72</td>\n",
       "      <td>0.42</td>\n",
       "      <td>SY</td>\n",
       "      <td>1675013074</td>\n",
       "    </tr>\n",
       "    <tr>\n",
       "      <th>4</th>\n",
       "      <td>tasiilaq</td>\n",
       "      <td>65.6153</td>\n",
       "      <td>-37.6378</td>\n",
       "      <td>263.43</td>\n",
       "      <td>79</td>\n",
       "      <td>32</td>\n",
       "      <td>2.32</td>\n",
       "      <td>GL</td>\n",
       "      <td>1675013074</td>\n",
       "    </tr>\n",
       "  </tbody>\n",
       "</table>\n",
       "</div>"
      ],
      "text/plain": [
       "       City      Lat       Lng  Max Temp  Humidity  Cloudiness  Wind Speed  \\\n",
       "0   ushuaia -54.8061  -68.3185    283.98        82          75        7.20   \n",
       "1   rikitea -23.1230 -134.9680    299.00        74          77        4.86   \n",
       "2  hermanus -34.4175   19.2361    293.62        59         100       10.86   \n",
       "3    yabrud  33.9665   36.6610    279.20        69          72        0.42   \n",
       "4  tasiilaq  65.6153  -37.6378    263.43        79          32        2.32   \n",
       "\n",
       "  Country        Date  \n",
       "0      AR  1675013072  \n",
       "1      PF  1675013073  \n",
       "2      ZA  1675013073  \n",
       "3      SY  1675013074  \n",
       "4      GL  1675013074  "
      ]
     },
     "execution_count": 151,
     "metadata": {},
     "output_type": "execute_result"
    }
   ],
   "source": [
    "# Display sample data\n",
    "city_data_df.head()"
   ]
  },
  {
   "cell_type": "code",
   "execution_count": 152,
   "metadata": {},
   "outputs": [],
   "source": [
    "# Export the City_Data into a csv\n",
    "city_data_df.to_csv(\"../output_data/cities_beta.csv\", index_label=\"City_ID\")"
   ]
  },
  {
   "cell_type": "code",
   "execution_count": 153,
   "metadata": {},
   "outputs": [
    {
     "data": {
      "text/html": [
       "<div>\n",
       "<style scoped>\n",
       "    .dataframe tbody tr th:only-of-type {\n",
       "        vertical-align: middle;\n",
       "    }\n",
       "\n",
       "    .dataframe tbody tr th {\n",
       "        vertical-align: top;\n",
       "    }\n",
       "\n",
       "    .dataframe thead th {\n",
       "        text-align: right;\n",
       "    }\n",
       "</style>\n",
       "<table border=\"1\" class=\"dataframe\">\n",
       "  <thead>\n",
       "    <tr style=\"text-align: right;\">\n",
       "      <th></th>\n",
       "      <th>City</th>\n",
       "      <th>Lat</th>\n",
       "      <th>Lng</th>\n",
       "      <th>Max Temp</th>\n",
       "      <th>Humidity</th>\n",
       "      <th>Cloudiness</th>\n",
       "      <th>Wind Speed</th>\n",
       "      <th>Country</th>\n",
       "      <th>Date</th>\n",
       "    </tr>\n",
       "    <tr>\n",
       "      <th>City_ID</th>\n",
       "      <th></th>\n",
       "      <th></th>\n",
       "      <th></th>\n",
       "      <th></th>\n",
       "      <th></th>\n",
       "      <th></th>\n",
       "      <th></th>\n",
       "      <th></th>\n",
       "      <th></th>\n",
       "    </tr>\n",
       "  </thead>\n",
       "  <tbody>\n",
       "    <tr>\n",
       "      <th>0</th>\n",
       "      <td>ushuaia</td>\n",
       "      <td>-54.8061</td>\n",
       "      <td>-68.3185</td>\n",
       "      <td>283.98</td>\n",
       "      <td>82</td>\n",
       "      <td>75</td>\n",
       "      <td>7.20</td>\n",
       "      <td>AR</td>\n",
       "      <td>1675013072</td>\n",
       "    </tr>\n",
       "    <tr>\n",
       "      <th>1</th>\n",
       "      <td>rikitea</td>\n",
       "      <td>-23.1230</td>\n",
       "      <td>-134.9680</td>\n",
       "      <td>299.00</td>\n",
       "      <td>74</td>\n",
       "      <td>77</td>\n",
       "      <td>4.86</td>\n",
       "      <td>PF</td>\n",
       "      <td>1675013073</td>\n",
       "    </tr>\n",
       "    <tr>\n",
       "      <th>2</th>\n",
       "      <td>hermanus</td>\n",
       "      <td>-34.4175</td>\n",
       "      <td>19.2361</td>\n",
       "      <td>293.62</td>\n",
       "      <td>59</td>\n",
       "      <td>100</td>\n",
       "      <td>10.86</td>\n",
       "      <td>ZA</td>\n",
       "      <td>1675013073</td>\n",
       "    </tr>\n",
       "    <tr>\n",
       "      <th>3</th>\n",
       "      <td>yabrud</td>\n",
       "      <td>33.9665</td>\n",
       "      <td>36.6610</td>\n",
       "      <td>279.20</td>\n",
       "      <td>69</td>\n",
       "      <td>72</td>\n",
       "      <td>0.42</td>\n",
       "      <td>SY</td>\n",
       "      <td>1675013074</td>\n",
       "    </tr>\n",
       "    <tr>\n",
       "      <th>4</th>\n",
       "      <td>tasiilaq</td>\n",
       "      <td>65.6153</td>\n",
       "      <td>-37.6378</td>\n",
       "      <td>263.43</td>\n",
       "      <td>79</td>\n",
       "      <td>32</td>\n",
       "      <td>2.32</td>\n",
       "      <td>GL</td>\n",
       "      <td>1675013074</td>\n",
       "    </tr>\n",
       "  </tbody>\n",
       "</table>\n",
       "</div>"
      ],
      "text/plain": [
       "             City      Lat       Lng  Max Temp  Humidity  Cloudiness  \\\n",
       "City_ID                                                                \n",
       "0         ushuaia -54.8061  -68.3185    283.98        82          75   \n",
       "1         rikitea -23.1230 -134.9680    299.00        74          77   \n",
       "2        hermanus -34.4175   19.2361    293.62        59         100   \n",
       "3          yabrud  33.9665   36.6610    279.20        69          72   \n",
       "4        tasiilaq  65.6153  -37.6378    263.43        79          32   \n",
       "\n",
       "         Wind Speed Country        Date  \n",
       "City_ID                                  \n",
       "0              7.20      AR  1675013072  \n",
       "1              4.86      PF  1675013073  \n",
       "2             10.86      ZA  1675013073  \n",
       "3              0.42      SY  1675013074  \n",
       "4              2.32      GL  1675013074  "
      ]
     },
     "execution_count": 153,
     "metadata": {},
     "output_type": "execute_result"
    }
   ],
   "source": [
    "# Read saved data\n",
    "city_data_df = pd.read_csv(\"../output_data/cities_beta.csv\", index_col=\"City_ID\")\n",
    "\n",
    "# Display sample data\n",
    "city_data_df.head()"
   ]
  },
  {
   "cell_type": "markdown",
   "metadata": {},
   "source": [
    "### Create the Scatter Plots Requested\n",
    "\n",
    "#### Latitude Vs. Temperature"
   ]
  },
  {
   "cell_type": "code",
   "execution_count": 155,
   "metadata": {
    "tags": []
   },
   "outputs": [
    {
     "data": {
      "image/png": "[encoded data removed]",
      "text/plain": [
       "<Figure size 640x480 with 1 Axes>"
      ]
     },
     "metadata": {},
     "output_type": "display_data"
    }
   ],
   "source": [
    "# Build scatter plot for latitude vs. temperature\n",
    "x_values = city_data_df[\"Lat\"]\n",
    "y_values = city_data_df[\"Lng\"]\n",
    "plt.scatter(x_values,y_values)\n",
    "\n",
    "# Incorporate the other graph properties\n",
    "plt.title(\"City Max Latitude vs. Temperature (2023-1-28)\")\n",
    "plt.xlabel(\"Latitude\")\n",
    "plt.ylabel(\"Max Temperature (C)\")\n",
    "# Save the figure\n",
    "plt.savefig(\"../output_data/Fig1_beta.png\")\n",
    "\n",
    "# Show plot\n",
    "plt.show()"
   ]
  },
  {
   "cell_type": "markdown",
   "metadata": {},
   "source": [
    "#### Latitude Vs. Humidity"
   ]
  },
  {
   "cell_type": "code",
   "execution_count": 156,
   "metadata": {},
   "outputs": [
    {
     "data": {
      "image/png": "[encoded data removed]",
      "text/plain": [
       "<Figure size 640x480 with 1 Axes>"
      ]
     },
     "metadata": {},
     "output_type": "display_data"
    }
   ],
   "source": [
    "# Build the scatter plots for latitude vs. humidity\n",
    "x_values = city_data_df[\"Lat\"]\n",
    "y_values = city_data_df[\"Humidity\"]\n",
    "plt.scatter(x_values,y_values)\n",
    "\n",
    "# Incorporate the other graph properties\n",
    "plt.title(\"City Latitude vs. Humidity (2023-1-28)\")\n",
    "plt.xlabel(\"Latitude\")\n",
    "plt.ylabel(\"Humidity (%)\")\n",
    "\n",
    "# Save the figure\n",
    "plt.savefig(\"../output_data/Fig2_beta.png\")\n",
    "\n",
    "# Show plot\n",
    "plt.show()"
   ]
  },
  {
   "cell_type": "markdown",
   "metadata": {},
   "source": [
    "#### Latitude Vs. Cloudiness"
   ]
  },
  {
   "cell_type": "code",
   "execution_count": 157,
   "metadata": {},
   "outputs": [
    {
     "data": {
      "image/png": "[encoded data removed]",
      "text/plain": [
       "<Figure size 640x480 with 1 Axes>"
      ]
     },
     "metadata": {},
     "output_type": "display_data"
    }
   ],
   "source": [
    "# Build the scatter plots for latitude vs. cloudiness\n",
    "x_values = city_data_df[\"Lat\"]\n",
    "y_values = city_data_df[\"Cloudiness\"]\n",
    "plt.scatter(x_values,y_values)\n",
    "\n",
    "# Incorporate the other graph properties\n",
    "plt.title(\"City Latitude vs. Cloudiness (2023-1-28)\")\n",
    "plt.xlabel(\"Latitude\")\n",
    "plt.ylabel(\"Cloudiness(%)\")\n",
    "\n",
    "# Save the figure\n",
    "plt.savefig(\"../output_data/Fig3_beta.png\")\n",
    "\n",
    "# Show plot\n",
    "plt.show()"
   ]
  },
  {
   "cell_type": "markdown",
   "metadata": {},
   "source": [
    "#### Latitude vs. Wind Speed Plot"
   ]
  },
  {
   "cell_type": "code",
   "execution_count": 158,
   "metadata": {},
   "outputs": [
    {
     "data": {
      "image/png": "[encoded data removed]",
      "text/plain": [
       "<Figure size 640x480 with 1 Axes>"
      ]
     },
     "metadata": {},
     "output_type": "display_data"
    }
   ],
   "source": [
    "# Build the scatter plots for latitude vs. wind speed\n",
    "x_values = city_data_df[\"Lat\"]\n",
    "y_values = city_data_df[\"Wind Speed\"]\n",
    "plt.scatter(x_values,y_values)\n",
    "\n",
    "# Incorporate the other graph properties\n",
    "plt.title(\"City Latitude vs. Wind Speed (2023-1-28)\")\n",
    "plt.xlabel(\"Latitude\")\n",
    "plt.ylabel(\"Wind Speed (m/s)\")\n",
    "\n",
    "# Save the figure\n",
    "plt.savefig(\"../output_data/Fig4_beta.png\")\n",
    "\n",
    "# Show plot\n",
    "plt.show()"
   ]
  },
  {
   "cell_type": "markdown",
   "metadata": {},
   "source": [
    "---\n",
    "\n",
    "## Requirement 2: Compute Linear Regression for Each Relationship\n"
   ]
  },
  {
   "cell_type": "code",
   "execution_count": 159,
   "metadata": {},
   "outputs": [],
   "source": [
    "# Define a function to create Linear Regression plots\n",
    "def lin_regress(l_x_values,l_y_values):\n",
    "    (slope, intercept, rvalue, pvalue, stderr) = linregress(l_x_values,l_y_values)\n",
    "\n",
    "    #Get regression values\n",
    "    regress_values = l_x_values * slope + intercept\n",
    "\n",
    "    line_eq = prt_lin_regress(slope,intercept)\n",
    "    return(regress_values, rvalue, line_eq)\n",
    "\n",
    "def prt_lin_regress(slope, intercept):\n",
    "\n",
    "    line_eq = \"y = \" + str(round(slope,2)) + \"x + \" + str(round(intercept,2))\n",
    "    return(line_eq)\n"
   ]
  },
  {
   "cell_type": "code",
   "execution_count": 160,
   "metadata": {},
   "outputs": [
    {
     "data": {
      "text/html": [
       "<div>\n",
       "<style scoped>\n",
       "    .dataframe tbody tr th:only-of-type {\n",
       "        vertical-align: middle;\n",
       "    }\n",
       "\n",
       "    .dataframe tbody tr th {\n",
       "        vertical-align: top;\n",
       "    }\n",
       "\n",
       "    .dataframe thead th {\n",
       "        text-align: right;\n",
       "    }\n",
       "</style>\n",
       "<table border=\"1\" class=\"dataframe\">\n",
       "  <thead>\n",
       "    <tr style=\"text-align: right;\">\n",
       "      <th></th>\n",
       "      <th>City</th>\n",
       "      <th>Lat</th>\n",
       "      <th>Lng</th>\n",
       "      <th>Max Temp</th>\n",
       "      <th>Humidity</th>\n",
       "      <th>Cloudiness</th>\n",
       "      <th>Wind Speed</th>\n",
       "      <th>Country</th>\n",
       "      <th>Date</th>\n",
       "    </tr>\n",
       "    <tr>\n",
       "      <th>City_ID</th>\n",
       "      <th></th>\n",
       "      <th></th>\n",
       "      <th></th>\n",
       "      <th></th>\n",
       "      <th></th>\n",
       "      <th></th>\n",
       "      <th></th>\n",
       "      <th></th>\n",
       "      <th></th>\n",
       "    </tr>\n",
       "  </thead>\n",
       "  <tbody>\n",
       "    <tr>\n",
       "      <th>3</th>\n",
       "      <td>yabrud</td>\n",
       "      <td>33.9665</td>\n",
       "      <td>36.6610</td>\n",
       "      <td>279.20</td>\n",
       "      <td>69</td>\n",
       "      <td>72</td>\n",
       "      <td>0.42</td>\n",
       "      <td>SY</td>\n",
       "      <td>1675013074</td>\n",
       "    </tr>\n",
       "    <tr>\n",
       "      <th>4</th>\n",
       "      <td>tasiilaq</td>\n",
       "      <td>65.6153</td>\n",
       "      <td>-37.6378</td>\n",
       "      <td>263.43</td>\n",
       "      <td>79</td>\n",
       "      <td>32</td>\n",
       "      <td>2.32</td>\n",
       "      <td>GL</td>\n",
       "      <td>1675013074</td>\n",
       "    </tr>\n",
       "    <tr>\n",
       "      <th>5</th>\n",
       "      <td>yellowknife</td>\n",
       "      <td>62.4541</td>\n",
       "      <td>-114.3774</td>\n",
       "      <td>241.60</td>\n",
       "      <td>75</td>\n",
       "      <td>20</td>\n",
       "      <td>1.54</td>\n",
       "      <td>CA</td>\n",
       "      <td>1675013075</td>\n",
       "    </tr>\n",
       "    <tr>\n",
       "      <th>7</th>\n",
       "      <td>hithadhoo</td>\n",
       "      <td>1.7959</td>\n",
       "      <td>73.3876</td>\n",
       "      <td>300.34</td>\n",
       "      <td>74</td>\n",
       "      <td>32</td>\n",
       "      <td>2.83</td>\n",
       "      <td>MV</td>\n",
       "      <td>1675013076</td>\n",
       "    </tr>\n",
       "  </tbody>\n",
       "</table>\n",
       "</div>"
      ],
      "text/plain": [
       "                City      Lat       Lng  Max Temp  Humidity  Cloudiness  \\\n",
       "City_ID                                                                   \n",
       "3             yabrud  33.9665   36.6610    279.20        69          72   \n",
       "4           tasiilaq  65.6153  -37.6378    263.43        79          32   \n",
       "5        yellowknife  62.4541 -114.3774    241.60        75          20   \n",
       "7          hithadhoo   1.7959   73.3876    300.34        74          32   \n",
       "\n",
       "         Wind Speed Country        Date  \n",
       "City_ID                                  \n",
       "3              0.42      SY  1675013074  \n",
       "4              2.32      GL  1675013074  \n",
       "5              1.54      CA  1675013075  \n",
       "7              2.83      MV  1675013076  "
      ]
     },
     "execution_count": 160,
     "metadata": {},
     "output_type": "execute_result"
    }
   ],
   "source": [
    "# Create a DataFrame with the Northern Hemisphere data (Latitude >= 0)\n",
    "northern_hemi_df = city_data_df.loc[city_data_df[\"Lat\"] >= 0]\n",
    "\n",
    "# Display sample data\n",
    "northern_hemi_df.head()"
   ]
  },
  {
   "cell_type": "code",
   "execution_count": 161,
   "metadata": {},
   "outputs": [
    {
     "data": {
      "text/html": [
       "<div>\n",
       "<style scoped>\n",
       "    .dataframe tbody tr th:only-of-type {\n",
       "        vertical-align: middle;\n",
       "    }\n",
       "\n",
       "    .dataframe tbody tr th {\n",
       "        vertical-align: top;\n",
       "    }\n",
       "\n",
       "    .dataframe thead th {\n",
       "        text-align: right;\n",
       "    }\n",
       "</style>\n",
       "<table border=\"1\" class=\"dataframe\">\n",
       "  <thead>\n",
       "    <tr style=\"text-align: right;\">\n",
       "      <th></th>\n",
       "      <th>City</th>\n",
       "      <th>Lat</th>\n",
       "      <th>Lng</th>\n",
       "      <th>Max Temp</th>\n",
       "      <th>Humidity</th>\n",
       "      <th>Cloudiness</th>\n",
       "      <th>Wind Speed</th>\n",
       "      <th>Country</th>\n",
       "      <th>Date</th>\n",
       "    </tr>\n",
       "    <tr>\n",
       "      <th>City_ID</th>\n",
       "      <th></th>\n",
       "      <th></th>\n",
       "      <th></th>\n",
       "      <th></th>\n",
       "      <th></th>\n",
       "      <th></th>\n",
       "      <th></th>\n",
       "      <th></th>\n",
       "      <th></th>\n",
       "    </tr>\n",
       "  </thead>\n",
       "  <tbody>\n",
       "    <tr>\n",
       "      <th>0</th>\n",
       "      <td>ushuaia</td>\n",
       "      <td>-54.8061</td>\n",
       "      <td>-68.3185</td>\n",
       "      <td>283.98</td>\n",
       "      <td>82</td>\n",
       "      <td>75</td>\n",
       "      <td>7.20</td>\n",
       "      <td>AR</td>\n",
       "      <td>1675013072</td>\n",
       "    </tr>\n",
       "    <tr>\n",
       "      <th>1</th>\n",
       "      <td>rikitea</td>\n",
       "      <td>-23.1230</td>\n",
       "      <td>-134.9680</td>\n",
       "      <td>299.00</td>\n",
       "      <td>74</td>\n",
       "      <td>77</td>\n",
       "      <td>4.86</td>\n",
       "      <td>PF</td>\n",
       "      <td>1675013073</td>\n",
       "    </tr>\n",
       "    <tr>\n",
       "      <th>2</th>\n",
       "      <td>hermanus</td>\n",
       "      <td>-34.4175</td>\n",
       "      <td>19.2361</td>\n",
       "      <td>293.62</td>\n",
       "      <td>59</td>\n",
       "      <td>100</td>\n",
       "      <td>10.86</td>\n",
       "      <td>ZA</td>\n",
       "      <td>1675013073</td>\n",
       "    </tr>\n",
       "    <tr>\n",
       "      <th>6</th>\n",
       "      <td>umzimvubu</td>\n",
       "      <td>-30.8249</td>\n",
       "      <td>28.9218</td>\n",
       "      <td>283.76</td>\n",
       "      <td>93</td>\n",
       "      <td>100</td>\n",
       "      <td>1.89</td>\n",
       "      <td>ZA</td>\n",
       "      <td>1675013075</td>\n",
       "    </tr>\n",
       "    <tr>\n",
       "      <th>8</th>\n",
       "      <td>nelson bay</td>\n",
       "      <td>-32.7218</td>\n",
       "      <td>152.1441</td>\n",
       "      <td>295.87</td>\n",
       "      <td>97</td>\n",
       "      <td>100</td>\n",
       "      <td>0.45</td>\n",
       "      <td>AU</td>\n",
       "      <td>1675013076</td>\n",
       "    </tr>\n",
       "  </tbody>\n",
       "</table>\n",
       "</div>"
      ],
      "text/plain": [
       "               City      Lat       Lng  Max Temp  Humidity  Cloudiness  \\\n",
       "City_ID                                                                  \n",
       "0           ushuaia -54.8061  -68.3185    283.98        82          75   \n",
       "1           rikitea -23.1230 -134.9680    299.00        74          77   \n",
       "2          hermanus -34.4175   19.2361    293.62        59         100   \n",
       "6         umzimvubu -30.8249   28.9218    283.76        93         100   \n",
       "8        nelson bay -32.7218  152.1441    295.87        97         100   \n",
       "\n",
       "         Wind Speed Country        Date  \n",
       "City_ID                                  \n",
       "0              7.20      AR  1675013072  \n",
       "1              4.86      PF  1675013073  \n",
       "2             10.86      ZA  1675013073  \n",
       "6              1.89      ZA  1675013075  \n",
       "8              0.45      AU  1675013076  "
      ]
     },
     "execution_count": 161,
     "metadata": {},
     "output_type": "execute_result"
    }
   ],
   "source": [
    "# Create a DataFrame with the Southern Hemisphere data (Latitude < 0)\n",
    "southern_hemi_df = city_data_df.loc[city_data_df[\"Lat\"] < 0]\n",
    "\n",
    "# Display sample data\n",
    "southern_hemi_df.head()"
   ]
  },
  {
   "cell_type": "markdown",
   "metadata": {},
   "source": [
    "###  Temperature vs. Latitude Linear Regression Plot"
   ]
  },
  {
   "cell_type": "code",
   "execution_count": 162,
   "metadata": {},
   "outputs": [
    {
     "name": "stdout",
     "output_type": "stream",
     "text": [
      "The r-value is: 0.8357541475497431\n"
     ]
    },
    {
     "data": {
      "image/png": "[encoded data removed]",
      "text/plain": [
       "<Figure size 640x480 with 1 Axes>"
      ]
     },
     "metadata": {},
     "output_type": "display_data"
    }
   ],
   "source": [
    "# Linear regression on Northern Hemisphere\n",
    "l_x_values = northern_hemi_df[\"Lat\"]\n",
    "l_y_values = northern_hemi_df[\"Max Temp\"]\n",
    "(regress_values, rvalue, line_eq) = lin_regress(l_x_values, l_y_values)\n",
    "\n",
    "\n",
    "plt.scatter(l_x_values,l_y_values)\n",
    "plt.plot(l_x_values,regress_values,\"r-\")\n",
    "\n",
    "# Label plot and annotate the line equation\n",
    "plt.xlabel(\"Latitude\")\n",
    "plt.ylabel(\"Max Temp.\")\n",
    "plt.annotate(line_eq,(41,265),fontsize=15,color=\"red\")\n",
    "\n",
    "#Print r values\n",
    "print(f\"The r-value is: {rvalue**2}\")\n",
    "\n",
    "# Show plot\n",
    "plt.show()"
   ]
  },
  {
   "cell_type": "code",
   "execution_count": 163,
   "metadata": {},
   "outputs": [
    {
     "name": "stdout",
     "output_type": "stream",
     "text": [
      "The r-value is: 0.4843635895722908\n"
     ]
    },
    {
     "data": {
      "image/png": "[encoded data removed]",
      "text/plain": [
       "<Figure size 640x480 with 1 Axes>"
      ]
     },
     "metadata": {},
     "output_type": "display_data"
    }
   ],
   "source": [
    "# Linear regression on Southern Hemisphere\n",
    "l_x_values = southern_hemi_df[\"Lat\"]\n",
    "l_y_values = southern_hemi_df[\"Max Temp\"]\n",
    "(regress_values, rvalue, line_eq) = lin_regress(l_x_values, l_y_values)\n",
    "\n",
    "\n",
    "plt.scatter(l_x_values,l_y_values)\n",
    "plt.plot(l_x_values,regress_values,\"r-\")\n",
    "\n",
    "# Label plot and annotate the line equation\n",
    "plt.xlabel(\"Latitude\")\n",
    "plt.ylabel(\"Max Temp.\")\n",
    "plt.annotate(line_eq,xy=(-20,294),color=\"red\")\n",
    "\n",
    "#Print r values\n",
    "print(f\"The r-value is: {rvalue**2}\")\n",
    "\n",
    "# Show plot\n",
    "plt.show()"
   ]
  },
  {
   "cell_type": "markdown",
   "metadata": {},
   "source": [
    "**Discussion about the linear relationship:** YOUR RESPONSE HERE"
   ]
  },
  {
   "cell_type": "markdown",
   "metadata": {},
   "source": [
    "### Humidity vs. Latitude Linear Regression Plot"
   ]
  },
  {
   "cell_type": "code",
   "execution_count": 164,
   "metadata": {},
   "outputs": [
    {
     "name": "stdout",
     "output_type": "stream",
     "text": [
      "The r-value is: 0.2399826160853378\n"
     ]
    },
    {
     "data": {
      "image/png": "[encoded data removed]",
      "text/plain": [
       "<Figure size 640x480 with 1 Axes>"
      ]
     },
     "metadata": {},
     "output_type": "display_data"
    }
   ],
   "source": [
    "# Northern Hemisphere\n",
    "l_x_values = northern_hemi_df[\"Lat\"]\n",
    "l_y_values = northern_hemi_df[\"Humidity\"]\n",
    "(regress_values, rvalue, line_eq) = lin_regress(l_x_values, l_y_values)\n",
    "\n",
    "\n",
    "plt.scatter(l_x_values,l_y_values)\n",
    "plt.plot(l_x_values,regress_values,\"r-\")\n",
    "\n",
    "# Label plot and annotate the line equation\n",
    "plt.xlabel(\"Latitude\")\n",
    "plt.ylabel(\"Max Temp.\")\n",
    "plt.annotate(line_eq,(42,72),fontsize=15,color=\"red\")\n",
    "\n",
    "#Print r values\n",
    "print(f\"The r-value is: {rvalue**2}\")\n",
    "\n",
    "# Show plot\n",
    "plt.show()"
   ]
  },
  {
   "cell_type": "code",
   "execution_count": 165,
   "metadata": {},
   "outputs": [
    {
     "name": "stdout",
     "output_type": "stream",
     "text": [
      "The r-value is: 0.02310327441411349\n"
     ]
    },
    {
     "data": {
      "image/png": "[encoded data removed]",
      "text/plain": [
       "<Figure size 640x480 with 1 Axes>"
      ]
     },
     "metadata": {},
     "output_type": "display_data"
    }
   ],
   "source": [
    "# Southern Hemisphere\n",
    "l_x_values = southern_hemi_df[\"Lat\"]\n",
    "l_y_values = southern_hemi_df[\"Humidity\"]\n",
    "(regress_values, rvalue, line_eq) = lin_regress(l_x_values, l_y_values)\n",
    "\n",
    "\n",
    "plt.scatter(l_x_values,l_y_values)\n",
    "plt.plot(l_x_values,regress_values,\"r-\")\n",
    "\n",
    "# Label plot and annotate the line equation\n",
    "plt.xlabel(\"Latitude\")\n",
    "plt.ylabel(\"Max Temp.\")\n",
    "plt.annotate(line_eq,(-40,35),fontsize=15,color=\"red\")\n",
    "\n",
    "#Print r values\n",
    "print(f\"The r-value is: {rvalue**2}\")\n",
    "\n",
    "# Show plot\n",
    "plt.show()"
   ]
  },
  {
   "cell_type": "markdown",
   "metadata": {},
   "source": [
    "**Discussion about the linear relationship:** YOUR RESPONSE HERE"
   ]
  },
  {
   "cell_type": "markdown",
   "metadata": {},
   "source": [
    "### Cloudiness vs. Latitude Linear Regression Plot"
   ]
  },
  {
   "cell_type": "code",
   "execution_count": 166,
   "metadata": {},
   "outputs": [
    {
     "name": "stdout",
     "output_type": "stream",
     "text": [
      "The r-value is: 0.0703869681639588\n"
     ]
    },
    {
     "data": {
      "image/png": "[encoded data removed]",
      "text/plain": [
       "<Figure size 640x480 with 1 Axes>"
      ]
     },
     "metadata": {},
     "output_type": "display_data"
    }
   ],
   "source": [
    "# Northern Hemisphere\n",
    "l_x_values = northern_hemi_df[\"Lat\"]\n",
    "l_y_values = northern_hemi_df[\"Cloudiness\"]\n",
    "(regress_values, rvalue, line_eq) = lin_regress(l_x_values, l_y_values)\n",
    "\n",
    "\n",
    "plt.scatter(l_x_values,l_y_values)\n",
    "plt.plot(l_x_values,regress_values,\"r-\")\n",
    "\n",
    "# Label plot and annotate the line equation\n",
    "plt.xlabel(\"Latitude\")\n",
    "plt.ylabel(\"Max Temp.\")\n",
    "plt.annotate(line_eq,(41,80),fontsize=15,color=\"red\")\n",
    "\n",
    "#Print r values\n",
    "print(f\"The r-value is: {rvalue**2}\")\n",
    "\n",
    "# Show plot\n",
    "plt.show()"
   ]
  },
  {
   "cell_type": "code",
   "execution_count": 167,
   "metadata": {},
   "outputs": [
    {
     "name": "stdout",
     "output_type": "stream",
     "text": [
      "The r-value is: 0.042649931109256\n"
     ]
    },
    {
     "data": {
      "image/png": "[encoded data removed]",
      "text/plain": [
       "<Figure size 640x480 with 1 Axes>"
      ]
     },
     "metadata": {},
     "output_type": "display_data"
    }
   ],
   "source": [
    "# Southern Hemisphere\n",
    "l_x_values = southern_hemi_df[\"Lat\"]\n",
    "l_y_values = southern_hemi_df[\"Cloudiness\"]\n",
    "(regress_values, rvalue, line_eq) = lin_regress(l_x_values, l_y_values)\n",
    "\n",
    "\n",
    "plt.scatter(l_x_values,l_y_values)\n",
    "plt.plot(l_x_values,regress_values,\"r-\")\n",
    "\n",
    "# Label plot and annotate the line equation\n",
    "plt.xlabel(\"Latitude\")\n",
    "plt.ylabel(\"Max Temp.\")\n",
    "plt.annotate(line_eq,(-40,60),fontsize=15,color=\"red\")\n",
    "\n",
    "#Print r values\n",
    "print(f\"The r-value is: {rvalue**2}\")\n",
    "\n",
    "# Show plot\n",
    "plt.show()"
   ]
  },
  {
   "cell_type": "markdown",
   "metadata": {},
   "source": [
    "**Discussion about the linear relationship:** YOUR RESPONSE HERE"
   ]
  },
  {
   "cell_type": "markdown",
   "metadata": {},
   "source": [
    "### Wind Speed vs. Latitude Linear Regression Plot"
   ]
  },
  {
   "cell_type": "code",
   "execution_count": 168,
   "metadata": {},
   "outputs": [
    {
     "name": "stdout",
     "output_type": "stream",
     "text": [
      "The r-value is: 0.06282719452583524\n"
     ]
    },
    {
     "data": {
      "image/png": "[encoded data removed]",
      "text/plain": [
       "<Figure size 640x480 with 1 Axes>"
      ]
     },
     "metadata": {},
     "output_type": "display_data"
    }
   ],
   "source": [
    "# Northern Hemisphere\n",
    "l_x_values = northern_hemi_df[\"Lat\"]\n",
    "l_y_values = northern_hemi_df[\"Wind Speed\"]\n",
    "(regress_values, rvalue, line_eq) = lin_regress(l_x_values, l_y_values)\n",
    "\n",
    "\n",
    "plt.scatter(l_x_values,l_y_values)\n",
    "plt.plot(l_x_values,regress_values,\"r-\")\n",
    "\n",
    "# Label plot and annotate the line equation\n",
    "plt.xlabel(\"Latitude\")\n",
    "plt.ylabel(\"Max Temp.\")\n",
    "plt.annotate(line_eq,(-40,60),fontsize=15,color=\"red\")\n",
    "\n",
    "#Print r values\n",
    "print(f\"The r-value is: {rvalue**2}\")\n",
    "\n",
    "# Show plot\n",
    "plt.show()"
   ]
  },
  {
   "cell_type": "code",
   "execution_count": 169,
   "metadata": {},
   "outputs": [
    {
     "name": "stdout",
     "output_type": "stream",
     "text": [
      "The r-value is: 0.023860746842874432\n"
     ]
    },
    {
     "data": {
      "image/png": "[encoded data removed]",
      "text/plain": [
       "<Figure size 640x480 with 1 Axes>"
      ]
     },
     "metadata": {},
     "output_type": "display_data"
    }
   ],
   "source": [
    "# Southern Hemisphere\n",
    "l_x_values = southern_hemi_df[\"Lat\"]\n",
    "l_y_values = southern_hemi_df[\"Wind Speed\"]\n",
    "(regress_values, rvalue, line_eq) = lin_regress(l_x_values, l_y_values)\n",
    "\n",
    "\n",
    "plt.scatter(l_x_values,l_y_values)\n",
    "plt.plot(l_x_values,regress_values,\"r-\")\n",
    "\n",
    "# Label plot and annotate the line equation\n",
    "plt.xlabel(\"Latitude\")\n",
    "plt.ylabel(\"Max Temp.\")\n",
    "plt.annotate(line_eq,(-40,60),fontsize=15,color=\"red\")\n",
    "\n",
    "#Print r values\n",
    "print(f\"The r-value is: {rvalue**2}\")\n",
    "\n",
    "# Show plot\n",
    "plt.show()"
   ]
  },
  {
   "cell_type": "markdown",
   "metadata": {},
   "source": [
    "**Discussion about the linear relationship:** YOUR RESPONSE HERE"
   ]
  },
  {
   "cell_type": "code",
   "execution_count": null,
   "metadata": {},
   "outputs": [],
   "source": []
  }
 ],
 "metadata": {
  "anaconda-cloud": {},
  "kernel_info": {
   "name": "python3"
  },
  "kernelspec": {
   "display_name": "base",
   "language": "python",
   "name": "python3"
  },
  "language_info": {
   "codemirror_mode": {
    "name": "ipython",
    "version": 3
   },
   "file_extension": ".py",
   "mimetype": "text/x-python",
   "name": "python",
   "nbconvert_exporter": "python",
   "pygments_lexer": "ipython3",
   "version": "3.9.13"
  },
  "latex_envs": {
   "LaTeX_envs_menu_present": true,
   "autoclose": false,
   "autocomplete": true,
   "bibliofile": "biblio.bib",
   "cite_by": "apalike",
   "current_citInitial": 1,
   "eqLabelWithNumbers": true,
   "eqNumInitial": 1,
   "hotkeys": {
    "equation": "Ctrl-E",
    "itemize": "Ctrl-I"
   },
   "labels_anchors": false,
   "latex_user_defs": false,
   "report_style_numbering": false,
   "user_envs_cfg": false
  },
  "nteract": {
   "version": "0.12.3"
  },
  "vscode": {
   "interpreter": {
    "hash": "40d3a090f54c6569ab1632332b64b2c03c39dcf918b08424e98f38b5ae0af88f"
   }
  }
 },
 "nbformat": 4,
 "nbformat_minor": 4
}
